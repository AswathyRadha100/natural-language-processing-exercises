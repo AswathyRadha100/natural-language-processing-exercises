{
 "cells": [
  {
   "cell_type": "markdown",
   "id": "b5e783ce",
   "metadata": {},
   "source": [
    "\n",
    "<div style=\"background-color: lightblue; padding: 60px;\">\n",
    "    <h1><b>Natural Language Processing - ACQUIRE - WEB SCRAPING\n",
    "</b></h1>\n",
    "</div>\n"
   ]
  },
  {
   "cell_type": "markdown",
   "id": "9f860a49",
   "metadata": {},
   "source": [
    "# Steps:\n",
    "1. Import the get() function from the requests module, BeautifulSoup from bs4, and pandas.\n",
    "2. Assign the address of the web page to a variable named url.\n",
    "3. Request the server the content of the web page by using get(), and store the server’s response in the variable response.\n",
    "4. Print the response text to ensure you have an html page.\n",
    "5. Take a look at the actual web page contents and inspect the source to understand the structure a bit.\n",
    "6. Use BeautifulSoup to parse the HTML into a variable (soup).\n",
    "7. Identify the key tags you need to extract the data you are looking for."
   ]
  },
  {
   "cell_type": "markdown",
   "id": "74565c71",
   "metadata": {},
   "source": [
    "# Step 1."
   ]
  },
  {
   "cell_type": "code",
   "execution_count": 7,
   "id": "ab2e086a",
   "metadata": {},
   "outputs": [],
   "source": [
    "import pandas as pd\n",
    "import numpy as np\n",
    "# new import for beautifulsoup\n",
    "from bs4 import BeautifulSoup\n",
    "import requests\n",
    "import os"
   ]
  },
  {
   "cell_type": "markdown",
   "id": "b2e13efa",
   "metadata": {},
   "source": [
    "\n",
    "# Step 2 & 3."
   ]
  },
  {
   "cell_type": "code",
   "execution_count": 10,
   "id": "c5c2c2bc",
   "metadata": {},
   "outputs": [],
   "source": [
    "url = 'https://codeup.edu/data-science/math-in-data-science/'\n",
    "response = requests.get(url, headers={'User-Agent': 'data-science-is-neat'})\n",
    "\n"
   ]
  },
  {
   "cell_type": "code",
   "execution_count": 11,
   "id": "4298f61e",
   "metadata": {},
   "outputs": [
    {
     "data": {
      "text/plain": [
       "<Response [200]>"
      ]
     },
     "execution_count": 11,
     "metadata": {},
     "output_type": "execute_result"
    }
   ],
   "source": [
    "response"
   ]
  },
  {
   "cell_type": "markdown",
   "id": "cb4c897e",
   "metadata": {},
   "source": [
    "### Some websites don't accept the python-requests default user-agent and will return a 403 Forbidden or 401 Unauthorized status code.\n"
   ]
  },
  {
   "cell_type": "markdown",
   "id": "e6eb5fe3",
   "metadata": {},
   "source": [
    " - This indicates that the server has understood the request but refuses to fulfill it, likely due to the unrecognized or blocked user-agent.\n",
    "\n",
    " - You can modify the user-agent header in your requests to mimic a different user-agent, such as a web browser, and see if the website responds positively."
   ]
  },
  {
   "cell_type": "code",
   "execution_count": 2,
   "id": "b1ce6009",
   "metadata": {},
   "outputs": [],
   "source": [
    "user_agents = [\n",
    "  \"Mozilla/5.0 (Windows NT 10.0; rv:91.0) Gecko/20100101 Firefox/91.0\",\n",
    "  \"Mozilla/5.0 (Windows NT 10.0; rv:78.0) Gecko/20100101 Firefox/78.0\",\n",
    "  \"Mozilla/5.0 (X11; Linux x86_64; rv:95.0) Gecko/20100101 Firefox/95.0\"\n",
    "  ]"
   ]
  },
  {
   "cell_type": "code",
   "execution_count": 12,
   "id": "2719bbfb",
   "metadata": {},
   "outputs": [
    {
     "data": {
      "text/plain": [
       "<Response [200]>"
      ]
     },
     "execution_count": 12,
     "metadata": {},
     "output_type": "execute_result"
    }
   ],
   "source": [
    "headers = {'User-Agent': user_agents[0]} # looks like a dictionary with the property as the key\n",
    "response = requests.get(url, headers=headers)\n",
    "response"
   ]
  },
  {
   "cell_type": "markdown",
   "id": "e70229ce",
   "metadata": {},
   "source": [
    "# Step 4."
   ]
  },
  {
   "cell_type": "code",
   "execution_count": 13,
   "id": "9648809c",
   "metadata": {},
   "outputs": [
    {
     "data": {
      "text/plain": [
       "'<!DOCTYPE html>\\n<html lang=\"en-US\">\\n<head>\\n\\t<meta charset=\"UTF-8\" />\\n<meta http-equiv=\"X-UA-Compatible\" content=\"IE=edge\">\\n\\t<link rel=\"pingback\" href=\"https://codeup.edu/xmlrpc.php\" />\\n\\n\\t<script type='"
      ]
     },
     "execution_count": 13,
     "metadata": {},
     "output_type": "execute_result"
    }
   ],
   "source": [
    "response.text[:200]"
   ]
  },
  {
   "cell_type": "markdown",
   "id": "c568692e",
   "metadata": {},
   "source": [
    "# Step 5."
   ]
  },
  {
   "cell_type": "code",
   "execution_count": null,
   "id": "6448ca22",
   "metadata": {},
   "outputs": [],
   "source": [
    "Let's visit the blog's website and apply the following Developer Tools to examine the HTML structure:\n",
    "\n",
    "command + option + u will let you view the source of a page in chrome.\n",
    "command + option + i will open up the chrome dev tools page inspector.\n",
    "command + shift + c will turn on the ability to hover over elements to find their corresponding HTML code. image.png\n",
    "Right clicking on specific text in the page and selecting 'inspect' will take you right to the html of that text"
   ]
  },
  {
   "cell_type": "markdown",
   "id": "aaaa9d2e",
   "metadata": {},
   "source": [
    "# Step 6."
   ]
  },
  {
   "cell_type": "code",
   "execution_count": 15,
   "id": "6f11f254",
   "metadata": {},
   "outputs": [],
   "source": [
    "soup = BeautifulSoup(response.text, 'html.parser')"
   ]
  },
  {
   "cell_type": "code",
   "execution_count": 16,
   "id": "877a4aeb",
   "metadata": {},
   "outputs": [
    {
     "data": {
      "text/plain": [
       "bs4.BeautifulSoup"
      ]
     },
     "execution_count": 16,
     "metadata": {},
     "output_type": "execute_result"
    }
   ],
   "source": [
    "type(soup)"
   ]
  },
  {
   "cell_type": "markdown",
   "id": "1d8aaff4",
   "metadata": {},
   "source": [
    "# Step 7."
   ]
  },
  {
   "cell_type": "code",
   "execution_count": 17,
   "id": "1038b8ef",
   "metadata": {},
   "outputs": [
    {
     "data": {
      "text/plain": [
       "<h1 class=\"entry-title\">What are the Math and Stats Principles You Need for Data Science?</h1>"
      ]
     },
     "execution_count": 17,
     "metadata": {},
     "output_type": "execute_result"
    }
   ],
   "source": [
    "#webpage title ELEMENT\n",
    "soup.h1"
   ]
  },
  {
   "cell_type": "code",
   "execution_count": 18,
   "id": "dac92554",
   "metadata": {},
   "outputs": [
    {
     "data": {
      "text/plain": [
       "'What are the Math and Stats Principles You Need for Data Science?'"
      ]
     },
     "execution_count": 18,
     "metadata": {},
     "output_type": "execute_result"
    }
   ],
   "source": [
    "#webpage title\n",
    "soup.h1.text"
   ]
  },
  {
   "cell_type": "code",
   "execution_count": 19,
   "id": "74c225e2",
   "metadata": {},
   "outputs": [
    {
     "data": {
      "text/plain": [
       "<p class=\"post-meta\"><span class=\"published\">Oct 21, 2020</span> | <a href=\"https://codeup.edu/category/data-science/\" rel=\"category tag\">Data Science</a></p>"
      ]
     },
     "execution_count": 19,
     "metadata": {},
     "output_type": "execute_result"
    }
   ],
   "source": [
    "# 1st paragraph element\n",
    "soup.p"
   ]
  },
  {
   "cell_type": "code",
   "execution_count": 20,
   "id": "e3978d18",
   "metadata": {},
   "outputs": [
    {
     "data": {
      "text/plain": [
       "<p class=\"post-meta\"><span class=\"published\">Oct 21, 2020</span> | <a href=\"https://codeup.edu/category/data-science/\" rel=\"category tag\">Data Science</a></p>"
      ]
     },
     "execution_count": 20,
     "metadata": {},
     "output_type": "execute_result"
    }
   ],
   "source": [
    "#same thing as above\n",
    "soup.find('p')"
   ]
  },
  {
   "cell_type": "code",
   "execution_count": 21,
   "id": "a5a207e2",
   "metadata": {},
   "outputs": [
    {
     "data": {
      "text/plain": [
       "33"
      ]
     },
     "execution_count": 21,
     "metadata": {},
     "output_type": "execute_result"
    }
   ],
   "source": [
    "#ALL paragraph elements\n",
    "len(soup.find_all('p'))"
   ]
  },
  {
   "cell_type": "code",
   "execution_count": 22,
   "id": "64a12db6",
   "metadata": {},
   "outputs": [],
   "source": [
    "list_of_p_elements = soup.find_all('p')\n",
    "#list_of_p_elements"
   ]
  },
  {
   "cell_type": "code",
   "execution_count": 23,
   "id": "1ea9b2be",
   "metadata": {},
   "outputs": [
    {
     "data": {
      "text/plain": [
       "'Oct 21, 2020 | Data Science'"
      ]
     },
     "execution_count": 23,
     "metadata": {},
     "output_type": "execute_result"
    }
   ],
   "source": [
    "list_of_p_elements[0].text"
   ]
  },
  {
   "cell_type": "code",
   "execution_count": 24,
   "id": "9b58294a",
   "metadata": {},
   "outputs": [
    {
     "name": "stdout",
     "output_type": "stream",
     "text": [
      "anchor: \n",
      "<a href=\"https://codeup.edu/category/data-science/\" rel=\"category tag\">Data Science</a>\n",
      "-------\n",
      "text: \n",
      "Oct 21, 2020 | Data Science\n",
      "-------\n",
      "anchor: \n",
      "<a href=\"https://codeup.edu/codeups-application-process/\"><span style=\"font-weight: 400;\">application process</span></a>\n",
      "-------\n",
      "text: \n",
      "Coming into our Data Science program, you will need to know some math and stats. However, many of our applicants actually learn in the application process – you don’t need to be an expert before applying! Data science is a very accessible field to anyone dedicated to learning new skills, and we can work with any applicant to help them learn what they need to know. But what “skills” do we mean, exactly? Just what exactly are the data science math and stats principles you need to know?\n",
      "-------\n",
      "anchor: \n",
      "None\n",
      "-------\n",
      "text: \n",
      "Algebra\n",
      "-------\n",
      "anchor: \n",
      "None\n",
      "-------\n",
      "text: \n",
      "Do you know PEMDAS and can you solve for x? You will need to be or become comfortable with the following: \n",
      "-------\n",
      "anchor: \n",
      "None\n",
      "-------\n",
      "text: \n",
      "Descriptive Statistics\n",
      "-------\n",
      "anchor: \n",
      "None\n",
      "-------\n",
      "text: \n",
      "Know what a min, max, mode, median, and average are. Have a conceptual understanding that stats/probability is about trying to quantify uncertainty.\n",
      "-------\n",
      "anchor: \n",
      "None\n",
      "-------\n",
      "text: \n",
      "Data Visualization\n",
      "-------\n",
      "anchor: \n",
      "None\n",
      "-------\n",
      "text: \n",
      "Know what a scatterplot is and how to read a barplot.\n",
      "-------\n",
      "anchor: \n",
      "None\n",
      "-------\n",
      "text: \n",
      "How to Learn and Expand on These Concepts\n",
      "-------\n",
      "anchor: \n",
      "<a href=\"https://codeup.edu/apply-now\"><span style=\"font-weight: 400;\">apply!</span></a>\n",
      "-------\n",
      "text: \n",
      "There are a number of great resources out there to teach you these and similar concepts. Khan Academy is a great starting place for data science math! If you want to know what exactly we assign our applicants, you’ll just have to apply!\n",
      "-------\n",
      "anchor: \n",
      "None\n",
      "-------\n",
      "text: \n",
      " \n",
      "-------\n",
      "anchor: \n",
      "None\n",
      "-------\n",
      "text: \n",
      "What You Won’t Do\n",
      "-------\n",
      "anchor: \n",
      "None\n",
      "-------\n",
      "text: \n",
      "Do we do any mathematical proofs for concepts or perform derivations? No. \n",
      "-------\n",
      "anchor: \n",
      "None\n",
      "-------\n",
      "text: \n",
      "Do we do any calculus and probability calculating by hand? No.\n",
      "-------\n",
      "anchor: \n",
      "None\n",
      "-------\n",
      "text: \n",
      "Are we transforming equations, where we cancel out units or terms and do lots of algebraic gymnastics? No\n",
      "-------\n",
      "anchor: \n",
      "None\n",
      "-------\n",
      "text: \n",
      "What You Will Do\n",
      "-------\n",
      "anchor: \n",
      "None\n",
      "-------\n",
      "text: \n",
      "Will we have Python solve our linear algebra problems for us? Yes\n",
      "-------\n",
      "anchor: \n",
      "None\n",
      "-------\n",
      "text: \n",
      "Will we have Python calculate probabilities, the area under a curve, and the slope of a line for us? Yes\n",
      "-------\n",
      "anchor: \n",
      "None\n",
      "-------\n",
      "text: \n",
      "Will we have Python do all of the calculus for us? Yes\n",
      "-------\n",
      "anchor: \n",
      "None\n",
      "-------\n",
      "text: \n",
      " \n",
      "-------\n",
      "anchor: \n",
      "<a href=\"http://www.codeup.com/apply\">apply</a>\n",
      "-------\n",
      "text: \n",
      "See, the data science math and stats slice of the pie is certainly doable. If you like problem-solving and are ready to challenge yourself, you’ll love data science! If you are interested in learning about data science, just apply! Our Admissions Manager can work with you to get you where you need to be starting from where you are now. Let us help you get there so you can launch a great new career.\n",
      "-------\n",
      "anchor: \n",
      "None\n",
      "-------\n",
      "text: \n",
      "\n",
      "-------\n",
      "anchor: \n",
      "None\n",
      "-------\n",
      "text: \n",
      "\n",
      "-------\n",
      "anchor: \n",
      "None\n",
      "-------\n",
      "text: \n",
      "\n",
      "-------\n",
      "anchor: \n",
      "<a href=\"tel:12108027289\" title=\"call Codeup\">(210) 802–7289</a>\n",
      "-------\n",
      "text: \n",
      "(210) 802–7289\n",
      "-------\n",
      "anchor: \n",
      "<a href=\"/dallas\">Dallas</a>\n",
      "-------\n",
      "text: \n",
      "Dallas | San Antonio\n",
      "-------\n",
      "anchor: \n",
      "<a href=\"/privacy/\">Privacy Policy</a>\n",
      "-------\n",
      "text: \n",
      "© 2013-2022 Copyright. Privacy Policy | Complaint Policy | Inclusion | Accessibility | Sitemap\n",
      "-------\n",
      "anchor: \n",
      "None\n",
      "-------\n",
      "text: \n",
      "If you love researching data and reading the fine print, you’ll do well in our programs.\n",
      "-------\n",
      "anchor: \n",
      "None\n",
      "-------\n",
      "text: \n",
      "GI Bill® is a registered trademark of the U.S. Department of Veterans Affairs (VA). More information about education benefits offered by VA is available at the official U.S. government Web site at https://www.benefits.va.gov/gibill.\n",
      "-------\n",
      "anchor: \n",
      "None\n",
      "-------\n",
      "text: \n",
      "Codeup is accredited for postsecondary, non-degree granting, career and technology programs by the Middle States Commission on Secondary Schools of the Middle States Association of Colleges and Schools, 3624 Market Street, Philadelphia, PA 19104, (267) 284-5000\n",
      "-------\n",
      "anchor: \n",
      "None\n",
      "-------\n",
      "text: \n",
      "\n",
      "-------\n",
      "anchor: \n",
      "None\n",
      "-------\n",
      "text: \n",
      "\n",
      "-------\n",
      "anchor: \n",
      "None\n",
      "-------\n",
      "text: \n",
      "\n",
      "-------\n"
     ]
    }
   ],
   "source": [
    "for element in list_of_p_elements:\n",
    "    print('anchor: ')\n",
    "    print(element.a)#a for anchors will give us the hyperlinks\n",
    "    print('-------')\n",
    "    print('text: ')\n",
    "    print(element.text)\n",
    "    print('-------')"
   ]
  },
  {
   "cell_type": "code",
   "execution_count": 28,
   "id": "135ef682",
   "metadata": {},
   "outputs": [
    {
     "data": {
      "text/plain": [
       "'Oct 21, 2020 | Data Science Coming into our Data Science program, you will need to know some math and stats. However, many of our applicants actually learn in the application process – you don’t need to be an expert before applying! Data science is a very accessible field to anyone dedicated to learning new skills, and we can work with any applicant to help them learn what they need to know. But what “skills” do we mean, exactly? Just what exactly are the data science math and stats principles you need to know? Algebra Do you know PEMDAS and can you solve for x? You will need to be or become comfortable with the following:\\xa0 Descriptive Statistics Know what a min, max, mode, median, and average are. Have a conceptual understanding that stats/probability is about trying to quantify uncertainty. Data Visualization Know what a scatterplot is and how to read a barplot. How to Learn and Expand on These Concepts There are a number of great resources out there to teach you these and similar concepts. Khan Academy is a great starting place for data science math! If you want to know what exactly we assign our applicants, you’ll just have to apply! \\xa0 What You Won’t Do Do we do any mathematical proofs for concepts or perform derivations? No.\\xa0 Do we do any calculus and probability calculating by hand? No. Are we transforming equations, where we cancel out units or terms and do lots of algebraic gymnastics? No What You Will Do Will we have Python solve our linear algebra problems for us? Yes Will we have Python calculate probabilities, the area under a curve, and the slope of a line for us? Yes Will we have Python do all of the calculus for us? Yes \\xa0 See, the data science math and stats slice of the pie is certainly doable. If you like problem-solving and are ready to challenge yourself, you’ll love data science! If you are interested in learning about data science, just apply! Our Admissions Manager can work with you to get you where you need to be starting from where you are now. Let us help you get there so you can launch a great new career.    (210) 802–7289 Dallas | San Antonio © 2013-2022 Copyright. Privacy Policy | Complaint Policy | Inclusion | Accessibility | Sitemap If you love researching data and reading the fine print, you’ll do well in our programs. GI Bill® is a registered trademark of the U.S. Department of Veterans Affairs (VA). More information about education benefits offered by VA is available at the official U.S. government Web site at https://www.benefits.va.gov/gibill. Codeup is accredited for postsecondary, non-degree granting, career and technology programs by the Middle States Commission on Secondary Schools of the Middle States Association of Colleges and Schools, 3624 Market Street, Philadelphia, PA 19104, (267) 284-5000   '"
      ]
     },
     "execution_count": 28,
     "metadata": {},
     "output_type": "execute_result"
    }
   ],
   "source": [
    "# every piece of text from a paragraph elemnt glued together into a single string\n",
    "# grab the contents of the page via requests.get,\n",
    "# explore where the elements sit in the page\n",
    "# use find_all to grab all similar elements\n",
    "# use the .text property of these elements to grab the content\n",
    "# use list comprension and a string join to glue those contents together\n",
    "' '.join([element.text for element in list_of_p_elements])"
   ]
  },
  {
   "cell_type": "markdown",
   "id": "e03ba28b",
   "metadata": {},
   "source": [
    "# CSS Selectors"
   ]
  },
  {
   "cell_type": "code",
   "execution_count": 29,
   "id": "742279d4",
   "metadata": {},
   "outputs": [
    {
     "data": {
      "text/plain": [
       "[<p class=\"post-meta\"><span class=\"published\">Oct 21, 2020</span> | <a href=\"https://codeup.edu/category/data-science/\" rel=\"category tag\">Data Science</a></p>,\n",
       " <p><span style=\"font-weight: 400;\">Coming into our Data Science program, you will need to know some math and stats. However, many of our applicants actually learn in the </span><a href=\"https://codeup.edu/codeups-application-process/\"><span style=\"font-weight: 400;\">application process</span></a><span style=\"font-weight: 400;\"> – you don’t need to be an expert before applying! Data science is a very accessible field to anyone dedicated to learning new skills, and we can work with any applicant to help them learn what they need to know. But what “skills” do we mean, exactly? Just what exactly are the data science math and stats principles you need to know?</span></p>,\n",
       " <p><strong>Algebra</strong></p>,\n",
       " <p><span style=\"font-weight: 400;\">Do you know PEMDAS and can you solve for x? You will need to be or become comfortable with the following: </span></p>,\n",
       " <p><strong>Descriptive Statistics</strong></p>,\n",
       " <p><span style=\"font-weight: 400;\">Know what a min, max, mode, median, and average are. Have a conceptual understanding that stats/probability is about trying to quantify uncertainty.</span></p>,\n",
       " <p><strong>Data Visualization</strong></p>,\n",
       " <p><span style=\"font-weight: 400;\">Know what a scatterplot is and how to read a barplot.</span></p>,\n",
       " <p><strong>How to Learn and Expand on These Concepts</strong></p>,\n",
       " <p><span style=\"font-weight: 400;\">There are a number of great resources out there to teach you these and similar concepts. Khan Academy is a great starting place for data science math! If you want to know what exactly we assign our applicants, you’ll just have to </span><a href=\"https://codeup.edu/apply-now\"><span style=\"font-weight: 400;\">apply!</span></a></p>,\n",
       " <p> </p>,\n",
       " <p><strong>What You Won’t Do</strong></p>,\n",
       " <p><span style=\"font-weight: 400;\">Do we do any mathematical proofs for concepts or perform derivations? No. </span></p>,\n",
       " <p><span style=\"font-weight: 400;\">Do we do any calculus and probability calculating by hand? No.</span></p>,\n",
       " <p><span style=\"font-weight: 400;\">Are we transforming equations, where we cancel out units or terms and do lots of algebraic gymnastics? No</span></p>,\n",
       " <p><strong>What You Will Do</strong></p>,\n",
       " <p><span style=\"font-weight: 400;\">Will we have Python solve our linear algebra problems for us? Yes</span></p>,\n",
       " <p><span style=\"font-weight: 400;\">Will we have Python calculate probabilities, the area under a curve, and the slope of a line for us? Yes</span></p>,\n",
       " <p><span style=\"font-weight: 400;\">Will we have Python do </span><b>all</b><span style=\"font-weight: 400;\"> of the calculus for us? Yes</span></p>,\n",
       " <p> </p>,\n",
       " <p><span style=\"font-weight: 400;\">See, the data science math and stats slice of the pie is certainly doable. If you like problem-solving and are ready to challenge yourself, you’ll love data science! If you are interested in learning about data science, just <a href=\"http://www.codeup.com/apply\">apply</a>! Our Admissions Manager can work with you to get you where you need to be starting from where you are now. Let us help you get there so you can launch a great new career.</span></p>,\n",
       " <p></p>,\n",
       " <p></p>,\n",
       " <p></p>,\n",
       " <p><a href=\"tel:12108027289\" title=\"call Codeup\">(210) 802–7289</a></p>,\n",
       " <p><a href=\"/dallas\">Dallas</a> | <a href=\"/san-antonio\">San Antonio</a></p>,\n",
       " <p>© 2013-2022 Copyright. <a href=\"/privacy/\">Privacy Policy</a> | <a href=\"/student-complaint-policy/\" title=\"complaint policy\">Complaint Policy</a> | <a href=\"/codeup-news/inclusion-at-codeup-during-pride-month-and-always/\" title=\"DEI at Codeup\">Inclusion</a> | <a href=\"/accessibility/\">Accessibility</a> | <a href=\"/sitemap_index.xml\">Sitemap</a></p>,\n",
       " <p><span style=\"font-size: x-small;\">If you love researching data and reading the fine print, you’ll do well in our programs.</span></p>,\n",
       " <p><em>GI Bill® is a registered trademark of the U.S. Department of Veterans Affairs (VA). More information about education benefits offered by VA is available at the official U.S. government Web site at https://www.benefits.va.gov/gibill.</em></p>,\n",
       " <p><em>Codeup is accredited for postsecondary, non-degree granting, career and technology programs by the Middle States Commission on Secondary Schools of the Middle States Association of Colleges and Schools, 3624 Market Street, Philadelphia, PA 19104, (267) 284-5000</em></p>,\n",
       " <p><span style=\"font-size: x-small;\"></span></p>,\n",
       " <p><span style=\"font-size: x-small;\"></span></p>,\n",
       " <p><span style=\"font-size: x-small;\"></span></p>]"
      ]
     },
     "execution_count": 29,
     "metadata": {},
     "output_type": "execute_result"
    }
   ],
   "source": [
    "# gives the results of `find_all`\n",
    "soup.select('p')"
   ]
  },
  {
   "cell_type": "code",
   "execution_count": 30,
   "id": "06919e0e",
   "metadata": {},
   "outputs": [
    {
     "data": {
      "text/plain": [
       "[<footer class=\"et-l et-l--footer\">\n",
       " <div class=\"et_builder_inner_content et_pb_gutters3\">\n",
       " <div class=\"et_pb_section et_pb_section_1_tb_footer et_pb_with_background et_pb_section_parallax et_section_regular\">\n",
       " <div class=\"et_pb_row et_pb_row_0_tb_footer et_pb_gutters2\">\n",
       " <div class=\"et_pb_column et_pb_column_1_2 et_pb_column_0_tb_footer et_pb_css_mix_blend_mode_passthrough\">\n",
       " <div class=\"et_pb_module et_pb_text et_pb_text_0_tb_footer et_pb_text_align_center et_pb_bg_layout_light\">\n",
       " <div class=\"et_pb_text_inner\"><h3>Phone</h3>\n",
       " <p><a href=\"tel:12108027289\" title=\"call Codeup\">(210) 802–7289</a></p></div>\n",
       " </div><ul class=\"et_pb_module et_pb_social_media_follow et_pb_social_media_follow_0_tb_footer clearfix et_pb_text_align_center et_pb_bg_layout_light\">\n",
       " <li class=\"et_pb_social_media_follow_network_0_tb_footer et_pb_social_icon et_pb_social_network_link et-social-facebook\"><a class=\"icon et_pb_with_border\" href=\"https://www.facebook.com/GoCodeup/\" target=\"_blank\" title=\"Follow on Facebook\"><span aria-hidden=\"true\" class=\"et_pb_social_media_follow_network_name\">Follow</span></a></li><li class=\"et_pb_social_media_follow_network_1_tb_footer et_pb_social_icon et_pb_social_network_link et-social-twitter\"><a class=\"icon et_pb_with_border\" href=\"https://twitter.com/gocodeup\" target=\"_blank\" title=\"Follow on Twitter\"><span aria-hidden=\"true\" class=\"et_pb_social_media_follow_network_name\">Follow</span></a></li><li class=\"et_pb_social_media_follow_network_2_tb_footer et_pb_social_icon et_pb_social_network_link et-social-instagram\"><a class=\"icon et_pb_with_border\" href=\"https://www.instagram.com/gocodeup/?hl=en\" target=\"_blank\" title=\"Follow on Instagram\"><span aria-hidden=\"true\" class=\"et_pb_social_media_follow_network_name\">Follow</span></a></li><li class=\"et_pb_social_media_follow_network_3_tb_footer et_pb_social_icon et_pb_social_network_link et-social-linkedin\"><a class=\"icon et_pb_with_border\" href=\"https://www.linkedin.com/school/3799914\" target=\"_blank\" title=\"Follow on LinkedIn\"><span aria-hidden=\"true\" class=\"et_pb_social_media_follow_network_name\">Follow</span></a></li><li class=\"et_pb_social_media_follow_network_4_tb_footer et_pb_social_icon et_pb_social_network_link et-social-rss\"><a class=\"icon et_pb_with_border\" href=\"/podcast/\" target=\"_blank\" title=\"Follow on RSS\"><span aria-hidden=\"true\" class=\"et_pb_social_media_follow_network_name\">Follow</span></a></li>\n",
       " </ul><div class=\"et_pb_module et_pb_text et_pb_text_1_tb_footer et_pb_text_align_center et_pb_bg_layout_light\">\n",
       " <div class=\"et_pb_text_inner\"><p><a href=\"/dallas\">Dallas</a> | <a href=\"/san-antonio\">San Antonio</a></p></div>\n",
       " </div><div class=\"et_pb_module et_pb_image et_pb_image_0_tb_footer\">\n",
       " <a href=\"/index.php/\"><span class=\"et_pb_image_wrap\"><img alt=\"quack quack\" class=\"wp-image-15815\" decoding=\"async\" height=\"256\" loading=\"lazy\" sizes=\"(max-width: 336px) 100vw, 336px\" src=\"https://codeup.edu/wp-content/uploads/2018/08/codey-1.png\" srcset=\"https://codeup.edu/wp-content/uploads/2018/08/codey-1.png 336w, https://codeup.edu/wp-content/uploads/2018/08/codey-1-300x229.png 300w\" title=\"Codey\" width=\"336\"/></span></a>\n",
       " </div>\n",
       " </div><div class=\"et_pb_column et_pb_column_1_4 et_pb_column_1_tb_footer et_pb_css_mix_blend_mode_passthrough\">\n",
       " <div class=\"et_pb_with_border et_pb_module et_pb_text et_pb_text_2_tb_footer et_pb_text_align_left et_pb_bg_layout_dark\">\n",
       " <div class=\"et_pb_text_inner\"><h4>Quick Links</h4></div>\n",
       " </div><div class=\"et_pb_module et_pb_text et_pb_text_3_tb_footer et_pb_text_align_left et_pb_bg_layout_dark\">\n",
       " <div class=\"et_pb_text_inner\"><a href=\"/why-codeup/\" title=\"About Codeup\">Why Codeup?</a><br/>\n",
       " <a href=\"/financial-aid/\" title=\"how to pay for bootcamp\">Financial Aid Options</a><br/>\n",
       " <a href=\"/my-story/\" title=\"Codeup Reviews\">Student Reviews</a><br/>\n",
       " <a href=\"https://alumni.codeup.com/\" rel=\"noopener\" target=\"_blank\" title=\"Hire Our Grads\">Hire Our Grads</a><br/>\n",
       " <a href=\"/refund/\" title=\"Codeup Refund Policy\"></a><a href=\"/refund/\" title=\"Codeup Refund Policy\">Refund Policy</a><br/>\n",
       " <a href=\"/frequently-asked-questions/\" title=\"frequently asked questions\">FAQs</a><br/>\n",
       " <a href=\"/careers/\" title=\"Jobs at Codeup\">Careers</a><br/>\n",
       " <a href=\"/pr/\" title=\"press assets for Codeup\">Media Kit</a></div>\n",
       " </div>\n",
       " </div><div class=\"et_pb_column et_pb_column_1_4 et_pb_column_2_tb_footer et_pb_css_mix_blend_mode_passthrough et-last-child\">\n",
       " <div class=\"et_pb_with_border et_pb_module et_pb_text et_pb_text_4_tb_footer et_pb_text_align_left et_pb_bg_layout_dark\">\n",
       " <div class=\"et_pb_text_inner\"><h4>Choose a Program</h4></div>\n",
       " </div><div class=\"et_pb_module et_pb_text et_pb_text_5_tb_footer et_pb_text_align_left et_pb_bg_layout_dark\">\n",
       " <div class=\"et_pb_text_inner\"><a href=\"/program/full-stack-web-development/\" title=\"coding bootcamp in Texas\">Full Stack Web Development</a><br/>\n",
       " <a href=\"/program/data-science/\" title=\"data science bootcamp in Texas\">Data Science</a><br/>\n",
       " <a href=\"/cloud-administration/\" title=\"learn Cloud Administration in Texas\">Cloud Administration</a><br/>\n",
       " <a href=\"/free/\" title=\"learn to code for free\">Free Networking Course</a></div>\n",
       " </div><div class=\"et_pb_button_module_wrapper et_pb_button_0_tb_footer_wrapper et_pb_button_alignment_phone_center et_pb_module\">\n",
       " <a class=\"et_pb_button et_pb_button_0_tb_footer et_pb_bg_layout_light\" href=\"/apply-now/\">Apply Now</a>\n",
       " </div>\n",
       " </div>\n",
       " </div><div class=\"et_pb_row et_pb_row_1_tb_footer\">\n",
       " <div class=\"et_pb_column et_pb_column_4_4 et_pb_column_3_tb_footer et_pb_css_mix_blend_mode_passthrough et-last-child\">\n",
       " <div class=\"et_pb_module et_pb_text et_pb_text_6_tb_footer et_pb_text_align_center et_pb_bg_layout_light\">\n",
       " <div class=\"et_pb_text_inner\" data-et-multi-view='{\"schema\":{\"content\":{\"desktop\":\"&lt;p&gt;\\u00a9 2013-2022 Copyright. &lt;a href=\\\"\\/privacy\\/\\\"&gt;Privacy Policy&lt;\\/a&gt; | &lt;a href=\\\"\\/student-complaint-policy\\/\\\" title=\\\"complaint policy\\\"&gt;Complaint Policy&lt;\\/a&gt; | &lt;a href=\\\"\\/codeup-news\\/inclusion-at-codeup-during-pride-month-and-always\\/\\\" title=\\\"DEI at Codeup\\\"&gt;Inclusion&lt;\\/a&gt; | &lt;a href=\\\"\\/accessibility\\/\\\"&gt;Accessibility&lt;\\/a&gt; | &lt;a href=\\\"\\/sitemap_index.xml\\\"&gt;Sitemap&lt;\\/a&gt;&lt;\\/p&gt;\\n&lt;p&gt;&lt;span style=\\\"font-size: x-small;\\\"&gt;If you love researching data and reading the fine print, you’ll do well in our programs.&lt;\\/span&gt;&lt;\\/p&gt;\\n&lt;p&gt;&lt;em&gt;GI Bill\\u00ae is a registered trademark of the U.S. Department of Veterans Affairs (VA). More information about education benefits offered by VA is available at the official U.S. government Web site at https:\\/\\/www.benefits.va.gov\\/gibill.&lt;\\/em&gt;&lt;\\/p&gt;\\n&lt;p&gt;&lt;em&gt;Codeup is accredited for postsecondary, non-degree granting, career and technology programs by the Middle States Commission on Secondary Schools of the Middle States Association of Colleges and Schools, 3624 Market Street, Philadelphia, PA 19104, (267) 284-5000&lt;\\/em&gt;&lt;\\/p&gt;\\n&lt;p&gt;&lt;span style=\\\"font-size: x-small;\\\"&gt;&lt;\\/span&gt;&lt;\\/p&gt;\\n&lt;p&gt;&lt;span style=\\\"font-size: x-small;\\\"&gt;&lt;\\/span&gt;&lt;\\/p&gt;\\n&lt;p&gt;&lt;span style=\\\"font-size: x-small;\\\"&gt;&lt;\\/span&gt;&lt;\\/p&gt;\",\"tablet\":\"\",\"phone\":\"&lt;p&gt;\\u00a9 2013-2021 Copyright.&lt;br \\/&gt;&lt;a href=\\\"#\\\" privacy=\\\"\\\" policy=\\\"\\\" a=\\\"\\\"&gt;Terms of Use&lt;\\/a&gt; | &lt;a href=\\\"\\/accessibility\\/\\\"&gt;Accessibility&lt;\\/a&gt; | &lt;a href=\\\"\\/sitemap.xml\\/\\\"&gt;Sitemap&lt;\\/a&gt;&lt;\\/p&gt;\\n&lt;p&gt;&lt;span style=\\\"font-size: x-small;\\\"&gt;If you love researching the fine print, consider our &lt;\\/span&gt;&lt;br \\/&gt;&lt;span style=\\\"font-size: x-small;\\\"&gt;Cybersecurity or Data Science Programs&lt;\\/span&gt;&lt;\\/p&gt;\"}},\"slug\":\"et_pb_text\"}' data-et-multi-view-load-phone-hidden=\"true\" data-et-multi-view-load-tablet-hidden=\"true\"><p>© 2013-2022 Copyright. <a href=\"/privacy/\">Privacy Policy</a> | <a href=\"/student-complaint-policy/\" title=\"complaint policy\">Complaint Policy</a> | <a href=\"/codeup-news/inclusion-at-codeup-during-pride-month-and-always/\" title=\"DEI at Codeup\">Inclusion</a> | <a href=\"/accessibility/\">Accessibility</a> | <a href=\"/sitemap_index.xml\">Sitemap</a></p>\n",
       " <p><span style=\"font-size: x-small;\">If you love researching data and reading the fine print, you’ll do well in our programs.</span></p>\n",
       " <p><em>GI Bill® is a registered trademark of the U.S. Department of Veterans Affairs (VA). More information about education benefits offered by VA is available at the official U.S. government Web site at https://www.benefits.va.gov/gibill.</em></p>\n",
       " <p><em>Codeup is accredited for postsecondary, non-degree granting, career and technology programs by the Middle States Commission on Secondary Schools of the Middle States Association of Colleges and Schools, 3624 Market Street, Philadelphia, PA 19104, (267) 284-5000</em></p>\n",
       " <p><span style=\"font-size: x-small;\"></span></p>\n",
       " <p><span style=\"font-size: x-small;\"></span></p>\n",
       " <p><span style=\"font-size: x-small;\"></span></p></div>\n",
       " </div>\n",
       " </div>\n",
       " </div>\n",
       " </div> </div>\n",
       " </footer>]"
      ]
     },
     "execution_count": 30,
     "metadata": {},
     "output_type": "execute_result"
    }
   ],
   "source": [
    "soup.select(\"footer\")\n"
   ]
  },
  {
   "cell_type": "code",
   "execution_count": 31,
   "id": "5dad5532",
   "metadata": {},
   "outputs": [
    {
     "data": {
      "text/plain": [
       "[<ul class=\"nav\" id=\"dm-menu\"><li class=\"menu-item menu-item-type-post_type menu-item-object-page menu-item-home menu-item-16491\"><a href=\"https://codeup.edu/\">Home</a></li>\n",
       " <li class=\"menu-item menu-item-type-custom menu-item-object-custom menu-item-18125\"><a href=\"https://codeup.edu/program/cloud-adminsitration/\">Cloud Administration</a></li>\n",
       " <li class=\"menu-item menu-item-type-post_type menu-item-object-course menu-item-16497\"><a href=\"https://codeup.edu/program/full-stack-web-development/\">Full Stack Web Development</a></li>\n",
       " <li class=\"menu-item menu-item-type-post_type menu-item-object-course menu-item-16496\"><a href=\"https://codeup.edu/program/data-science/\">Data Science</a></li>\n",
       " <li class=\"menu-item menu-item-type-custom menu-item-object-custom menu-item-18628\"><a href=\"http://codeup.edu/events/\">Workshops</a></li>\n",
       " <li class=\"menu-item menu-item-type-post_type menu-item-object-page menu-item-16502\"><a href=\"https://codeup.edu/hire-tech-talent/\">Hire Tech Talent</a></li>\n",
       " <li class=\"menu-item menu-item-type-custom menu-item-object-custom menu-item-17178\"><a href=\"https://alumni.codeup.com/\">Alumni</a></li>\n",
       " <li class=\"menu-item menu-item-type-post_type menu-item-object-page menu-item-has-children menu-item-16503\"><a href=\"https://codeup.edu/resources/\">Resources</a>\n",
       " <ul class=\"sub-menu\">\n",
       " <li class=\"menu-item menu-item-type-post_type menu-item-object-page menu-item-16505\"><a href=\"https://codeup.edu/frequently-asked-questions/\">Common Questions</a></li>\n",
       " <li class=\"menu-item menu-item-type-post_type menu-item-object-page menu-item-16498\"><a href=\"https://codeup.edu/financial-aid/\">Financial Aid</a></li>\n",
       " <li class=\"menu-item menu-item-type-post_type menu-item-object-page menu-item-16501\"><a href=\"https://codeup.edu/veterans/\">Military</a></li>\n",
       " <li class=\"menu-item menu-item-type-custom menu-item-object-custom menu-item-16895\"><a href=\"/my-story/\">Student Reviews</a></li>\n",
       " <li class=\"menu-item menu-item-type-post_type menu-item-object-page current_page_parent menu-item-16504\"><a href=\"https://codeup.edu/blog/\">Blog</a></li>\n",
       " <li class=\"menu-item menu-item-type-post_type menu-item-object-page menu-item-16685\"><a href=\"https://codeup.edu/podcast/\">Hire Tech Podcast</a></li>\n",
       " </ul>\n",
       " </li>\n",
       " <li class=\"cta-nav menu-item menu-item-type-post_type menu-item-object-page menu-item-16492\"><a href=\"https://codeup.edu/apply-now/\">Apply Now</a></li>\n",
       " </ul>]"
      ]
     },
     "execution_count": 31,
     "metadata": {},
     "output_type": "execute_result"
    }
   ],
   "source": [
    "# The id property is denoted with a #\n",
    "soup.select(\"#dm-menu\")\n"
   ]
  },
  {
   "cell_type": "code",
   "execution_count": 32,
   "id": "8a79090a",
   "metadata": {},
   "outputs": [
    {
     "data": {
      "text/plain": [
       "[<div class=\"dm-search\">\n",
       " <div id=\"et_top_search_mob\">\n",
       " <span id=\"et_search_icon\"></span>\n",
       " <div class=\"dm-search-box\" style=\"opacity: 0;\">\n",
       " <form action=\"https://codeup.edu/\" class=\"et-search-form\" method=\"get\" role=\"search\">\n",
       " <input class=\"et-search-field\" name=\"s\" placeholder=\"Search …\" title=\"Search for:\" type=\"search\" value=\"\"/> </form>\n",
       " <span class=\"close\"></span>\n",
       " </div>\n",
       " </div>\n",
       " </div>]"
      ]
     },
     "execution_count": 32,
     "metadata": {},
     "output_type": "execute_result"
    }
   ],
   "source": [
    "# The class property is denoted with a . symbol before the\n",
    "# class name\n",
    "soup.select(\".dm-search\")"
   ]
  },
  {
   "cell_type": "code",
   "execution_count": 33,
   "id": "4f161c4c",
   "metadata": {},
   "outputs": [
    {
     "data": {
      "text/plain": [
       "[<ul class=\"sub-menu\">\n",
       " <li class=\"menu-item menu-item-type-post_type menu-item-object-page menu-item-16505\"><a href=\"https://codeup.edu/frequently-asked-questions/\">Common Questions</a></li>\n",
       " <li class=\"menu-item menu-item-type-post_type menu-item-object-page menu-item-16498\"><a href=\"https://codeup.edu/financial-aid/\">Financial Aid</a></li>\n",
       " <li class=\"menu-item menu-item-type-post_type menu-item-object-page menu-item-16501\"><a href=\"https://codeup.edu/veterans/\">Military</a></li>\n",
       " <li class=\"menu-item menu-item-type-custom menu-item-object-custom menu-item-16895\"><a href=\"/my-story/\">Student Reviews</a></li>\n",
       " <li class=\"menu-item menu-item-type-post_type menu-item-object-page current_page_parent menu-item-16504\"><a href=\"https://codeup.edu/blog/\">Blog</a></li>\n",
       " <li class=\"menu-item menu-item-type-post_type menu-item-object-page menu-item-16685\"><a href=\"https://codeup.edu/podcast/\">Hire Tech Podcast</a></li>\n",
       " </ul>,\n",
       " <ul class=\"sub-menu\">\n",
       " <li class=\"menu-item menu-item-type-post_type menu-item-object-course menu-item-16296\"><a href=\"https://codeup.edu/program/data-science/\" title=\"Data Science Bootcamp in Texas\">Data Science</a></li>\n",
       " <li class=\"menu-item menu-item-type-post_type menu-item-object-course menu-item-18130\"><a href=\"https://codeup.edu/program/cloud-administration/\">Cloud Administration</a></li>\n",
       " <li class=\"menu-item menu-item-type-post_type menu-item-object-course menu-item-16294\"><a href=\"https://codeup.edu/program/full-stack-web-development/\" title=\"Full Stack Web Development Bootcamp\">Web Development</a></li>\n",
       " </ul>,\n",
       " <ul class=\"sub-menu\">\n",
       " <li class=\"menu-item menu-item-type-post_type menu-item-object-page menu-item-16509\"><a href=\"https://codeup.edu/san-antonio/\">San Antonio</a></li>\n",
       " <li class=\"menu-item menu-item-type-post_type menu-item-object-page menu-item-16075\"><a href=\"https://codeup.edu/dallas/\">Dallas</a></li>\n",
       " </ul>,\n",
       " <ul class=\"sub-menu\">\n",
       " <li class=\"menu-item menu-item-type-post_type menu-item-object-page menu-item-17180\"><a href=\"https://codeup.edu/hire-tech-talent/\">Hire Our Grads</a></li>\n",
       " <li class=\"menu-item menu-item-type-custom menu-item-object-custom menu-item-17179\"><a href=\"https://alumni.codeup.com/\">Alumni Portal</a></li>\n",
       " </ul>,\n",
       " <ul class=\"sub-menu\">\n",
       " <li class=\"menu-item menu-item-type-custom menu-item-object-custom menu-item-547\"><a href=\"/financial-aid/\">Financing</a></li>\n",
       " <li class=\"menu-item menu-item-type-post_type menu-item-object-page menu-item-16162\"><a href=\"https://codeup.edu/veterans/\">Military</a></li>\n",
       " <li class=\"menu-item menu-item-type-custom menu-item-object-custom menu-item-16896\"><a href=\"/my-story/\">Alumni Stories</a></li>\n",
       " <li class=\"menu-item menu-item-type-post_type menu-item-object-page menu-item-16302\"><a href=\"https://codeup.edu/frequently-asked-questions/\">Common Questions</a></li>\n",
       " </ul>]"
      ]
     },
     "execution_count": 33,
     "metadata": {},
     "output_type": "execute_result"
    }
   ],
   "source": [
    "soup.select(\".sub-menu\")\n"
   ]
  },
  {
   "cell_type": "markdown",
   "id": "10404d55",
   "metadata": {},
   "source": [
    "# Using sleep"
   ]
  },
  {
   "cell_type": "code",
   "execution_count": 34,
   "id": "93244fc4",
   "metadata": {},
   "outputs": [
    {
     "name": "stdout",
     "output_type": "stream",
     "text": [
      "Hello\n",
      "world!\n"
     ]
    }
   ],
   "source": [
    "import time\n",
    "print(\"Hello\")\n",
    "time.sleep(5)\n",
    "print(\"world!\")"
   ]
  },
  {
   "cell_type": "markdown",
   "id": "62c3a8b1",
   "metadata": {},
   "source": [
    "# NY Times Website\n"
   ]
  },
  {
   "cell_type": "code",
   "execution_count": 36,
   "id": "a87717f8",
   "metadata": {},
   "outputs": [],
   "source": [
    "# grab the contents via requests\n",
    "nytresponse = requests.get('https://www.nytimes.com/')"
   ]
  },
  {
   "cell_type": "code",
   "execution_count": 37,
   "id": "aa20beef",
   "metadata": {},
   "outputs": [
    {
     "data": {
      "text/plain": [
       "<Response [200]>"
      ]
     },
     "execution_count": 37,
     "metadata": {},
     "output_type": "execute_result"
    }
   ],
   "source": [
    "nytresponse\n"
   ]
  },
  {
   "cell_type": "code",
   "execution_count": 38,
   "id": "ba38c4f0",
   "metadata": {},
   "outputs": [],
   "source": [
    "# turn the contents into soup:\n",
    "nytsoup = BeautifulSoup(nytresponse.text, 'html.parser')"
   ]
  },
  {
   "cell_type": "code",
   "execution_count": 39,
   "id": "d6c0e19d",
   "metadata": {},
   "outputs": [
    {
     "data": {
      "text/plain": [
       "<h3 class=\"indicate-hover css-si8ren\">As Conditions in Gaza Worsen, Biden Weighs a Visit to Israel</h3>"
      ]
     },
     "execution_count": 39,
     "metadata": {},
     "output_type": "execute_result"
    }
   ],
   "source": [
    "nytsoup.h3"
   ]
  },
  {
   "cell_type": "code",
   "execution_count": 40,
   "id": "14a4d115",
   "metadata": {},
   "outputs": [
    {
     "data": {
      "text/plain": [
       "['As Conditions in Gaza Worsen, Biden Weighs a Visit to Israel',\n",
       " 'Muslim Boy, 6, Is Mourned After Illinois Attack Linked to Mideast War',\n",
       " 'Foreign citizens are waiting anxiously at the border between Gaza and Egypt.',\n",
       " 'Hostages’ families are living through an “endless loop of hope and despair.”']"
      ]
     },
     "execution_count": 40,
     "metadata": {},
     "output_type": "execute_result"
    }
   ],
   "source": [
    "[header.text for header in nytsoup.find_all('h3')][:4]\n"
   ]
  },
  {
   "cell_type": "code",
   "execution_count": null,
   "id": "be67c277",
   "metadata": {},
   "outputs": [],
   "source": [
    "# nytsoup.select('.css-9mylee')\n"
   ]
  },
  {
   "cell_type": "code",
   "execution_count": 41,
   "id": "bb237967",
   "metadata": {},
   "outputs": [],
   "source": [
    "article_links = nytsoup.find_all('a', class_='css-9mylee')\n"
   ]
  },
  {
   "cell_type": "code",
   "execution_count": 42,
   "id": "307ee190",
   "metadata": {},
   "outputs": [
    {
     "data": {
      "text/plain": [
       "'https://www.nytimes.com/live/2023/10/16/world/israel-hamas-war-news-gaza'"
      ]
     },
     "execution_count": 42,
     "metadata": {},
     "output_type": "execute_result"
    }
   ],
   "source": [
    "#parse 1st link only\n",
    "article_links[0]['href']\n"
   ]
  },
  {
   "cell_type": "code",
   "execution_count": 43,
   "id": "a3b5215b",
   "metadata": {},
   "outputs": [
    {
     "data": {
      "text/plain": [
       "['https://www.nytimes.com/live/2023/10/16/world/israel-hamas-war-news-gaza',\n",
       " 'https://www.nytimes.com/2023/10/16/us/stabbing-hate-crime-funeral.html',\n",
       " 'https://www.nytimes.com/live/2023/10/16/world/israel-hamas-war-news-gaza/foreign-citizens-border-gaza-egypt',\n",
       " 'https://www.nytimes.com/2023/10/16/world/asia/israel-hostages-families-hamas-gaza.html',\n",
       " 'https://www.nytimes.com/live/2023/10/16/us/trump-gag-order-election-case-news',\n",
       " 'https://www.nytimes.com/2023/10/16/business/china-evergrande-country-garden.html',\n",
       " 'https://www.nytimes.com/2023/10/16/business/nepal-pokhara-airport-china.html',\n",
       " 'https://www.nytimes.com/2023/10/16/business/china-evergrande-country-garden.html',\n",
       " 'https://www.nytimes.com/2023/10/16/us/migrants-border-families-trump-settlement.html',\n",
       " 'https://www.nytimes.com/2023/10/16/dining/best-restaurants-new-orleans.html',\n",
       " 'https://www.nytimes.com/2023/10/16/science/covid-lab-leak-research.html',\n",
       " 'https://www.nytimes.com/2023/10/16/health/long-covid-serotonin.html',\n",
       " 'https://www.nytimes.com/2023/10/16/health/mental-health-tiktok-harvard.html',\n",
       " 'https://www.nytimes.com/2023/10/16/climate/new-york-birds-windows.html',\n",
       " 'https://www.nytimes.com/2023/10/16/dining/farm-raised-salmon-sustainability.html',\n",
       " 'https://www.nytimes.com/2023/10/16/technology/ai-agents-workers-replace.html',\n",
       " 'https://www.nytimes.com/2023/10/16/us/politics/house-speaker-whats-next.html',\n",
       " 'https://www.nytimes.com/section/opinion',\n",
       " 'https://www.nytimes.com/2023/10/16/dining/actors-writers-strike-restaurant-workers.html',\n",
       " 'https://www.nytimes.com/2023/10/16/travel/vermont-fall-tourism-flooding.html',\n",
       " 'https://www.nytimes.com/2023/10/16/movies/taylor-swift-the-eras-tour-stream-concert-movies-beyonce.html',\n",
       " 'https://www.nytimes.com/2023/10/16/briefing/republicans-gerrymandering.html',\n",
       " 'https://www.nytimes.com/2023/10/16/world/americas/javier-milei-pope-francis-argentina-election.html',\n",
       " 'https://www.nytimes.com/2023/10/16/us/politics/yellen-europe-ukraine.html',\n",
       " 'https://www.nytimes.com/2023/10/16/world/asia/afghanistan-earthquakes.html',\n",
       " 'https://www.nytimes.com/2023/10/15/obituaries/suzanne-somers-dead.html',\n",
       " 'https://www.nytimes.com/2023/10/16/realestate/annie-leibovitz-upper-west-side-duplex.html',\n",
       " 'https://www.nytimes.com/2023/10/06/realestate/wedding-married-at-home.html',\n",
       " 'https://www.nytimes.com/2023/10/16/realestate/2-million-dollar-homes-california.html',\n",
       " 'https://www.nytimes.com/2023/10/16/t-magazine/san-miguel-de-allende-casa-dragones.html',\n",
       " 'https://www.nytimes.com/2023/10/16/t-magazine/trompe-loeil-ceramics.html',\n",
       " 'https://theathletic.com/',\n",
       " 'https://theathletic.com/4965425/2023/10/16/college-football-team-rankings-midseason-washington/',\n",
       " 'https://theathletic.com/4960036/2023/10/16/paige-bueckers-uconn-huskies-basketball/',\n",
       " 'https://theathletic.com/4965425/2023/10/16/college-football-team-rankings-midseason-washington/',\n",
       " 'https://theathletic.com/4964039/2023/10/16/nfl-news-week-6-super-bowl-favorites-broncos-dolphins/',\n",
       " 'https://theathletic.com/4965648/2023/10/16/jets-defense-eagles-recap/',\n",
       " 'https://theathletic.com/4966525/2023/10/16/wemby-spurs-nba-kawhi-leonard-clippers-knicks-the-bounce/',\n",
       " 'https://theathletic.com/4962218/2023/10/16/yankees-fan-survey-hal-steinbrenner-brian-cashman/',\n",
       " 'https://cooking.nytimes.com/',\n",
       " 'https://www.nytimes.com/wirecutter/',\n",
       " 'https://www.nytimes.com/games/wordle/index.html',\n",
       " 'https://www.nytimes.com/spotlight/wordle-review',\n",
       " 'https://www.nytimes.com/games/connections',\n",
       " 'https://www.nytimes.com/puzzles/spelling-bee',\n",
       " 'https://www.nytimes.com/crosswords',\n",
       " 'https://www.nytimes.com/puzzles/letter-boxed']"
      ]
     },
     "execution_count": 43,
     "metadata": {},
     "output_type": "execute_result"
    }
   ],
   "source": [
    "#parse all links only\n",
    "[link_tag['href'] for link_tag in article_links]\n"
   ]
  },
  {
   "cell_type": "code",
   "execution_count": 44,
   "id": "73e29dd9",
   "metadata": {},
   "outputs": [
    {
     "data": {
      "text/plain": [
       "75"
      ]
     },
     "execution_count": 44,
     "metadata": {},
     "output_type": "execute_result"
    }
   ],
   "source": [
    "len([header.text for header in nytsoup.find_all('h3')])\n"
   ]
  },
  {
   "cell_type": "code",
   "execution_count": 45,
   "id": "42b65084",
   "metadata": {},
   "outputs": [
    {
     "data": {
      "text/plain": [
       "47"
      ]
     },
     "execution_count": 45,
     "metadata": {},
     "output_type": "execute_result"
    }
   ],
   "source": [
    "len([link_tag['href'] for link_tag in article_links])\n"
   ]
  },
  {
   "cell_type": "code",
   "execution_count": 46,
   "id": "66022878",
   "metadata": {},
   "outputs": [],
   "source": [
    "links_list = [link_tag['href'] for link_tag in article_links]\n"
   ]
  },
  {
   "cell_type": "code",
   "execution_count": 47,
   "id": "ab4a2653",
   "metadata": {},
   "outputs": [
    {
     "data": {
      "text/plain": [
       "'https://www.nytimes.com/live/2023/10/16/world/israel-hamas-war-news-gaza'"
      ]
     },
     "execution_count": 47,
     "metadata": {},
     "output_type": "execute_result"
    }
   ],
   "source": [
    "links_list[0]\n"
   ]
  },
  {
   "cell_type": "code",
   "execution_count": null,
   "id": "f32f3d27",
   "metadata": {},
   "outputs": [],
   "source": [
    "# I have a list of pages that I can now scrape"
   ]
  },
  {
   "cell_type": "code",
   "execution_count": 48,
   "id": "03bb3aaa",
   "metadata": {},
   "outputs": [
    {
     "data": {
      "text/plain": [
       "<Response [403]>"
      ]
     },
     "execution_count": 48,
     "metadata": {},
     "output_type": "execute_result"
    }
   ],
   "source": [
    "requests.get(links_list[0])\n"
   ]
  },
  {
   "cell_type": "code",
   "execution_count": 49,
   "id": "53614351",
   "metadata": {},
   "outputs": [],
   "source": [
    "url = links_list[4]\n"
   ]
  },
  {
   "cell_type": "code",
   "execution_count": 50,
   "id": "29ea1d4c",
   "metadata": {},
   "outputs": [],
   "source": [
    "## `import random` to randomly select a different user-agent from a provided list:\n",
    "\n",
    "import random\n",
    "\n",
    "user_agents = [\n",
    "  \"Mozilla/5.0 (Windows NT 10.0; rv:91.0) Gecko/20100101 Firefox/91.0\",\n",
    "  \"Mozilla/5.0 (Windows NT 10.0; rv:78.0) Gecko/20100101 Firefox/78.0\",\n",
    "  \"Mozilla/5.0 (X11; Linux x86_64; rv:95.0) Gecko/20100101 Firefox/95.0\"\n",
    "  ]\n",
    "random_user_agent = random.choice(user_agents)\n",
    "\n",
    "headers = {'User-Agent': random_user_agent}\n",
    "\n",
    "response = requests.get(url, headers=headers)"
   ]
  },
  {
   "cell_type": "code",
   "execution_count": 51,
   "id": "132cdb54",
   "metadata": {},
   "outputs": [
    {
     "data": {
      "text/plain": [
       "<Response [403]>"
      ]
     },
     "execution_count": 51,
     "metadata": {},
     "output_type": "execute_result"
    }
   ],
   "source": [
    "response"
   ]
  },
  {
   "cell_type": "code",
   "execution_count": null,
   "id": "7575eb69",
   "metadata": {},
   "outputs": [],
   "source": [
    "# sometimes, a user agent isnt quite enough.\n",
    "# some websites will require stronger medicine in order to navigate beyond\n",
    "# the content of the html.\n",
    "# capchas, javascript calls, etc.\n",
    "# for this, we may want something like a virtual automated browser like Selenium\n"
   ]
  },
  {
   "cell_type": "code",
   "execution_count": null,
   "id": "bfd3f604",
   "metadata": {},
   "outputs": [],
   "source": []
  }
 ],
 "metadata": {
  "kernelspec": {
   "display_name": "Python 3 (ipykernel)",
   "language": "python",
   "name": "python3"
  },
  "language_info": {
   "codemirror_mode": {
    "name": "ipython",
    "version": 3
   },
   "file_extension": ".py",
   "mimetype": "text/x-python",
   "name": "python",
   "nbconvert_exporter": "python",
   "pygments_lexer": "ipython3",
   "version": "3.11.3"
  }
 },
 "nbformat": 4,
 "nbformat_minor": 5
}
