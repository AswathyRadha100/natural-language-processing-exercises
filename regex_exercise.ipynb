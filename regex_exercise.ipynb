{
 "cells": [
  {
   "cell_type": "markdown",
   "id": "5e27d1be",
   "metadata": {},
   "source": [
    "\n",
    "<div style=\"background-color: lightblue; padding: 60px;\">\n",
    "    <h1><b>Regex Exercise\n",
    "</b></h1>\n",
    "</div>\n"
   ]
  },
  {
   "cell_type": "code",
   "execution_count": null,
   "id": "1366e624",
   "metadata": {},
   "outputs": [],
   "source": [
    "Regular Expressions\n",
    "A regular expression is a sort of meta-language that can be used to describe patterns in text.\n",
    "\n",
    "Regexes are most commonly used in one of two ways:\n",
    "\n",
    "To find/extract text that matches a pattern.\n",
    "To replace/substitute text that matches a pattern."
   ]
  },
  {
   "cell_type": "code",
   "execution_count": 7,
   "id": "b5c08703",
   "metadata": {},
   "outputs": [],
   "source": [
    "import re\n",
    "import pandas as pd"
   ]
  },
  {
   "cell_type": "markdown",
   "id": "bf9810ea",
   "metadata": {},
   "source": [
    "# Exercises"
   ]
  },
  {
   "cell_type": "markdown",
   "id": "59f3dad0",
   "metadata": {},
   "source": [
    "## 1. Write a function named is_vowel. It should accept a string as input and use a regular expression to determine if the passed string is a vowel. While not explicity mentioned in the lesson, you can treat the result of re.search as a boolean value that indicates whether or not the regular expression matches the given string."
   ]
  },
  {
   "cell_type": "code",
   "execution_count": 8,
   "id": "fb9a1992",
   "metadata": {},
   "outputs": [],
   "source": [
    "# regex --> we can check a range of characters\n",
    "#       --> we dont need necessarily to check length in the same way\n",
    "# (because we have the starts with and ends with characters ^, $)\n",
    "\n",
    "\n",
    "def is_vowel(some_string):\n",
    "    #return (len(1) and type(str) and is in 'aeiouAEIOU')\n",
    "    if type(some_string) == str:\n",
    "        pattern = r'^[aeiouAEIOU]$'\n",
    "        return bool(re.search(pattern, some_string))\n",
    "    else:\n",
    "        return False\n",
    "    \n"
   ]
  },
  {
   "cell_type": "markdown",
   "id": "99ef2ed5",
   "metadata": {},
   "source": [
    "Testing the function:"
   ]
  },
  {
   "cell_type": "code",
   "execution_count": 9,
   "id": "ca6d46c5",
   "metadata": {},
   "outputs": [
    {
     "data": {
      "text/plain": [
       "True"
      ]
     },
     "execution_count": 9,
     "metadata": {},
     "output_type": "execute_result"
    }
   ],
   "source": [
    "is_vowel('a')"
   ]
  },
  {
   "cell_type": "code",
   "execution_count": 10,
   "id": "cc1e068a",
   "metadata": {},
   "outputs": [
    {
     "data": {
      "text/plain": [
       "True"
      ]
     },
     "execution_count": 10,
     "metadata": {},
     "output_type": "execute_result"
    }
   ],
   "source": [
    "is_vowel('A')"
   ]
  },
  {
   "cell_type": "code",
   "execution_count": 11,
   "id": "249acbe3",
   "metadata": {},
   "outputs": [
    {
     "data": {
      "text/plain": [
       "False"
      ]
     },
     "execution_count": 11,
     "metadata": {},
     "output_type": "execute_result"
    }
   ],
   "source": [
    "is_vowel('EE')"
   ]
  },
  {
   "cell_type": "code",
   "execution_count": 12,
   "id": "d7bd5bd0",
   "metadata": {},
   "outputs": [
    {
     "data": {
      "text/plain": [
       "True"
      ]
     },
     "execution_count": 12,
     "metadata": {},
     "output_type": "execute_result"
    }
   ],
   "source": [
    "is_vowel('e')"
   ]
  },
  {
   "cell_type": "markdown",
   "id": "9cd20865",
   "metadata": {},
   "source": [
    "## 2 Write a function named is_valid_username that accepts a string as input. A valid username starts with a lowercase letter, and only consists of lowercase letters, numbers, or the _ character. It should also be no longer than 32 characters. The function should return either True or False depending on whether the passed string is a valid username."
   ]
  },
  {
   "cell_type": "code",
   "execution_count": null,
   "id": "cf0a147f",
   "metadata": {},
   "outputs": [],
   "source": [
    "# start with a lowercase letter : ^[a-z]\n",
    "# consists otherwise of only lowercase letters, numbers, or _\n",
    "# 33 length total"
   ]
  },
  {
   "cell_type": "code",
   "execution_count": 13,
   "id": "e6f2f0e4",
   "metadata": {},
   "outputs": [],
   "source": [
    "def is_valid_username(some_username):\n",
    "    pattern = r'^[a-z][a-z\\d_]{,31}$'\n",
    "    return bool(re.search(pattern, some_username))\n",
    "    "
   ]
  },
  {
   "cell_type": "markdown",
   "id": "c58b93d9",
   "metadata": {},
   "source": [
    "Testing the function:"
   ]
  },
  {
   "cell_type": "code",
   "execution_count": 15,
   "id": "83cb3569",
   "metadata": {},
   "outputs": [
    {
     "data": {
      "text/plain": [
       "33"
      ]
     },
     "execution_count": 15,
     "metadata": {},
     "output_type": "execute_result"
    }
   ],
   "source": [
    "len('aaaaaaaaaaaaaaaaaaaaaaaaaaaaaaaaa')"
   ]
  },
  {
   "cell_type": "code",
   "execution_count": 17,
   "id": "dfbe1e63",
   "metadata": {},
   "outputs": [],
   "source": [
    "assert(is_valid_username('aaaaaaaaaaaaaaaaaaaaaaaaaaaaaaaaa') == False)\n",
    "\n",
    "# If the assertion passes (i.e., the function does return `False), there will be no visible output\n",
    "# It's mainly used as a testing mechanism to ensure that the function behaves as expected within the code"
   ]
  },
  {
   "cell_type": "code",
   "execution_count": 18,
   "id": "fbc37bac",
   "metadata": {},
   "outputs": [],
   "source": [
    "assert(is_valid_username('aaaaaaaaaaaaaaaaaaaaaaaaaaaaaaaa') == True)\n"
   ]
  },
  {
   "cell_type": "code",
   "execution_count": 19,
   "id": "71d973b2",
   "metadata": {},
   "outputs": [],
   "source": [
    "assert(is_valid_username('codeup') == True)\n"
   ]
  },
  {
   "cell_type": "code",
   "execution_count": 20,
   "id": "0fc04bf1",
   "metadata": {},
   "outputs": [],
   "source": [
    "assert(is_valid_username('Codeup') == False)\n"
   ]
  },
  {
   "cell_type": "code",
   "execution_count": 21,
   "id": "06c63ab6",
   "metadata": {},
   "outputs": [],
   "source": [
    "assert(is_valid_username('codeup123') == True )\n"
   ]
  },
  {
   "cell_type": "code",
   "execution_count": 22,
   "id": "00f7d6cc",
   "metadata": {},
   "outputs": [],
   "source": [
    "assert(is_valid_username('1codeup') == False)\n"
   ]
  },
  {
   "cell_type": "markdown",
   "id": "c30e615e",
   "metadata": {},
   "source": [
    "## 3. Write a regular expression to capture phone numbers. It should match all of the following:\n",
    " - (210) 867 5309\n",
    " - +1 210.867.5309\n",
    " - 867-5309\n",
    " - 210-867-5309"
   ]
  },
  {
   "cell_type": "code",
   "execution_count": 40,
   "id": "8f76a0b4",
   "metadata": {},
   "outputs": [
    {
     "name": "stdout",
     "output_type": "stream",
     "text": [
      "\n",
      "2108675309\n",
      "12108675309\n",
      "8675309\n",
      "2108675309\n",
      "\n"
     ]
    }
   ],
   "source": [
    "subject = '''\n",
    "(210) 867 5309\n",
    "+1 210.867.5309\n",
    "867-5309\n",
    "210-867-5309\n",
    "'''\n",
    "regexp =r'\\d+'\n",
    "phone_numbers = re.findall(regexp,subject)\n",
    "\n",
    "for subject in subject.split('\\n'):\n",
    "    concatenated_numbers = ''.join(re.findall(regexp,subject))\n",
    "    print(concatenated_numbers)\n"
   ]
  },
  {
   "cell_type": "code",
   "execution_count": null,
   "id": "5194b8ed",
   "metadata": {},
   "outputs": [],
   "source": [
    "# or"
   ]
  },
  {
   "cell_type": "code",
   "execution_count": 25,
   "id": "449da609",
   "metadata": {},
   "outputs": [],
   "source": [
    "phone_nos = [\n",
    "'(210) 867 5309',\n",
    "'+1 210.867.5309',\n",
    "'867-5309',\n",
    "'210-867-5309',\n",
    "'12108671894']"
   ]
  },
  {
   "cell_type": "code",
   "execution_count": null,
   "id": "df399ecb",
   "metadata": {},
   "outputs": [],
   "source": [
    "# define my understanding of what a phone number is:\n",
    "# at bare minimum:\n",
    "# three digits followed by four digits\n",
    "# there may or may not be stuff between those\n",
    "# it may have a three digit area code, which may or may not have parens around it\n",
    "# and it may have a region code, which may or may not start with a plus\n"
   ]
  },
  {
   "cell_type": "code",
   "execution_count": 26,
   "id": "28fa9571",
   "metadata": {},
   "outputs": [],
   "source": [
    "regex = '''\n",
    "\\+?(?P<region_code>\\d)?\n",
    "\\D?\n",
    "\\(?(?P<area_code>\\d{3})?\\)?\n",
    "\\D?\n",
    "(?P<first_three>\\d{3})\n",
    ".?\n",
    "(?P<last_four>\\d{4})$\n",
    "'''"
   ]
  },
  {
   "cell_type": "code",
   "execution_count": 27,
   "id": "950f734b",
   "metadata": {},
   "outputs": [
    {
     "data": {
      "text/html": [
       "<div>\n",
       "<style scoped>\n",
       "    .dataframe tbody tr th:only-of-type {\n",
       "        vertical-align: middle;\n",
       "    }\n",
       "\n",
       "    .dataframe tbody tr th {\n",
       "        vertical-align: top;\n",
       "    }\n",
       "\n",
       "    .dataframe thead th {\n",
       "        text-align: right;\n",
       "    }\n",
       "</style>\n",
       "<table border=\"1\" class=\"dataframe\">\n",
       "  <thead>\n",
       "    <tr style=\"text-align: right;\">\n",
       "      <th></th>\n",
       "      <th>region_code</th>\n",
       "      <th>area_code</th>\n",
       "      <th>first_three</th>\n",
       "      <th>last_four</th>\n",
       "    </tr>\n",
       "  </thead>\n",
       "  <tbody>\n",
       "    <tr>\n",
       "      <th>0</th>\n",
       "      <td>NaN</td>\n",
       "      <td>210</td>\n",
       "      <td>867</td>\n",
       "      <td>5309</td>\n",
       "    </tr>\n",
       "    <tr>\n",
       "      <th>1</th>\n",
       "      <td>1</td>\n",
       "      <td>210</td>\n",
       "      <td>867</td>\n",
       "      <td>5309</td>\n",
       "    </tr>\n",
       "    <tr>\n",
       "      <th>2</th>\n",
       "      <td>NaN</td>\n",
       "      <td>NaN</td>\n",
       "      <td>867</td>\n",
       "      <td>5309</td>\n",
       "    </tr>\n",
       "    <tr>\n",
       "      <th>3</th>\n",
       "      <td>NaN</td>\n",
       "      <td>210</td>\n",
       "      <td>867</td>\n",
       "      <td>5309</td>\n",
       "    </tr>\n",
       "    <tr>\n",
       "      <th>4</th>\n",
       "      <td>1</td>\n",
       "      <td>210</td>\n",
       "      <td>867</td>\n",
       "      <td>1894</td>\n",
       "    </tr>\n",
       "  </tbody>\n",
       "</table>\n",
       "</div>"
      ],
      "text/plain": [
       "  region_code area_code first_three last_four\n",
       "0         NaN       210         867      5309\n",
       "1           1       210         867      5309\n",
       "2         NaN       NaN         867      5309\n",
       "3         NaN       210         867      5309\n",
       "4           1       210         867      1894"
      ]
     },
     "execution_count": 27,
     "metadata": {},
     "output_type": "execute_result"
    }
   ],
   "source": [
    "# take the list, cast it as a series, use str.extract and utilize\n",
    "# capture groups in order to see if I can grab the stuff I want\n",
    "\n",
    "pd.Series(phone_nos).str.extract(regex, re.VERBOSE)\n"
   ]
  },
  {
   "cell_type": "markdown",
   "id": "b59d6566",
   "metadata": {},
   "source": [
    "## 4.  Use regular expressions to convert the dates below to the standardized year-month-day format.\n",
    " - 02/04/19\n",
    " - 02/05/19\n",
    " - 02/06/19\n",
    " - 02/07/19\n",
    " - 02/08/19\n",
    " - 02/09/19\n",
    " - 02/10/19\n",
    "\n"
   ]
  },
  {
   "cell_type": "code",
   "execution_count": 28,
   "id": "2a4ac246",
   "metadata": {},
   "outputs": [],
   "source": [
    "date_list = ['02/04/19',\n",
    "             '02/05/19',\n",
    "             '02/06/19',\n",
    "             '02/07/19',\n",
    "             '02/08/19',\n",
    "             '02/09/19',\n",
    "             '02/10/19',\n",
    "            ]\n",
    "# currently: mm/dd/yy\n",
    "#  --> yyyy-mm-dd"
   ]
  },
  {
   "cell_type": "code",
   "execution_count": null,
   "id": "5b929129",
   "metadata": {},
   "outputs": [],
   "source": [
    "# right now:\n",
    "# first thing : month -> capture group 1\n",
    "# second thing: day -> capture group 2\n",
    "# third thing: is the year -> capture group 3\n",
    "# \n",
    "# when I go to reformat this, I want\n",
    "# 20(3)-(1)-(2)"
   ]
  },
  {
   "cell_type": "code",
   "execution_count": 29,
   "id": "e140f2e6",
   "metadata": {},
   "outputs": [
    {
     "data": {
      "text/plain": [
       "'2019-02-04'"
      ]
     },
     "execution_count": 29,
     "metadata": {},
     "output_type": "execute_result"
    }
   ],
   "source": [
    "pattern = r'(\\d{2})/(\\d{2})/(\\d{2})'\n",
    "substitution = r'20\\3-\\1-\\2'\n",
    "re.sub(pattern,substitution,date_list[0])\n"
   ]
  },
  {
   "cell_type": "code",
   "execution_count": 30,
   "id": "8eda3414",
   "metadata": {},
   "outputs": [
    {
     "data": {
      "text/plain": [
       "0    2019-02-04\n",
       "1    2019-02-05\n",
       "2    2019-02-06\n",
       "3    2019-02-07\n",
       "4    2019-02-08\n",
       "5    2019-02-09\n",
       "6    2019-02-10\n",
       "dtype: object"
      ]
     },
     "execution_count": 30,
     "metadata": {},
     "output_type": "execute_result"
    }
   ],
   "source": [
    "pd.Series(date_list).str.replace(pattern, substitution, regex=True)\n"
   ]
  },
  {
   "cell_type": "markdown",
   "id": "19b2716b",
   "metadata": {},
   "source": [
    "## 5. Write a regex to extract the various parts of these logfile lines:\n",
    "\n",
    "\n",
    " - GET /api/v1/sales?page=86 [16/Apr/2019:193452+0000] HTTP/1.1 {200} 510348 \"python-requests/2.21.0\" 97.105.19.58\n",
    " - POST /users_accounts/file-upload [16/Apr/2019:193452+0000] HTTP/1.1 {201} 42 \"User-Agent: Mozilla/5.0 (X11; Fedora; Fedora; Linux x86_64) AppleWebKit/537.36 (KHTML, like Gecko) Chrome/73.0.3683.86 Safari/537.36\" 97.105.19.58\n",
    " - GET /api/v1/items?page=3 [16/Apr/2019:193453+0000] HTTP/1.1 {429} 3561 \"python-requests/2.21.0\" 97.105.19.58\n",
    " "
   ]
  },
  {
   "cell_type": "code",
   "execution_count": 32,
   "id": "600a34ff",
   "metadata": {},
   "outputs": [],
   "source": [
    "log_files = '''GET /api/v1/sales?page=86 [16/Apr/2019:193452+0000] HTTP/1.1 {200} 510348 \"python-requests/2.21.0\" 97.105.19.58\n",
    "POST /users_accounts/file-upload [16/Apr/2019:193452+0000] HTTP/1.1 {201} 42 \"User-Agent: Mozilla/5.0 (X11; Fedora; Fedora; Linux x86_64) AppleWebKit/537.36 (KHTML, like Gecko) Chrome/73.0.3683.86 Safari/537.36\" 97.105.19.58\n",
    "GET /api/v1/items?page=3 [16/Apr/2019:193453+0000] HTTP/1.1 {429} 3561 \"python-requests/2.21.0\" 97.105.19.58'''"
   ]
  },
  {
   "cell_type": "code",
   "execution_count": 38,
   "id": "c6949848",
   "metadata": {},
   "outputs": [],
   "source": [
    "logs = pd.Series(log_files.split('\\n'))\n"
   ]
  },
  {
   "cell_type": "code",
   "execution_count": 39,
   "id": "9943a127",
   "metadata": {},
   "outputs": [
    {
     "data": {
      "text/plain": [
       "0    GET /api/v1/sales?page=86 [16/Apr/2019:193452+...\n",
       "1    POST /users_accounts/file-upload [16/Apr/2019:...\n",
       "2    GET /api/v1/items?page=3 [16/Apr/2019:193453+0...\n",
       "dtype: object"
      ]
     },
     "execution_count": 39,
     "metadata": {},
     "output_type": "execute_result"
    }
   ],
   "source": [
    "logs"
   ]
  },
  {
   "cell_type": "code",
   "execution_count": 35,
   "id": "4d2dafdc",
   "metadata": {},
   "outputs": [],
   "source": [
    "# GET /api/v1/sales?page=86 [16/Apr/2019:193452+0000] HTTP/1.1 {200} 510348 \"python-requests/2.21.0\" 97.105.19.58\n",
    "# first thing: request method\n",
    "# second thing: endpoint\n",
    "# third thing: time stamp\n",
    "# fourth thing: HTTP version\n",
    "# fifth thing: response code\n",
    "# sixth thing: bytes transferred \n",
    "# seventh thing: user agent\n",
    "# eighth thing: ip"
   ]
  },
  {
   "cell_type": "code",
   "execution_count": 36,
   "id": "cdb1fb95",
   "metadata": {},
   "outputs": [],
   "source": [
    "pattern = r'''\n",
    "^(?P<method>GET|POST)\n",
    "\\s+\n",
    "(?P<endpoint>.*)\n",
    "\\s+\n",
    "\\[(?P<timestamp>.*)\\]\n",
    "\\s+\n",
    "(?P<http_ver>.*)\n",
    "\\s+\n",
    "\\{(?P<response>\\d+)\\}\n",
    "\\s+\n",
    "(?P<bytes>\\d+)\n",
    "\\s+\n",
    "\"(?P<user_agent>.*)\"\n",
    "\\s+\n",
    "(?P<ip>.*)$\n",
    "'''"
   ]
  },
  {
   "cell_type": "code",
   "execution_count": 37,
   "id": "57278e16",
   "metadata": {},
   "outputs": [
    {
     "data": {
      "text/html": [
       "<div>\n",
       "<style scoped>\n",
       "    .dataframe tbody tr th:only-of-type {\n",
       "        vertical-align: middle;\n",
       "    }\n",
       "\n",
       "    .dataframe tbody tr th {\n",
       "        vertical-align: top;\n",
       "    }\n",
       "\n",
       "    .dataframe thead th {\n",
       "        text-align: right;\n",
       "    }\n",
       "</style>\n",
       "<table border=\"1\" class=\"dataframe\">\n",
       "  <thead>\n",
       "    <tr style=\"text-align: right;\">\n",
       "      <th></th>\n",
       "      <th>method</th>\n",
       "      <th>endpoint</th>\n",
       "      <th>timestamp</th>\n",
       "      <th>http_ver</th>\n",
       "      <th>response</th>\n",
       "      <th>bytes</th>\n",
       "      <th>user_agent</th>\n",
       "      <th>ip</th>\n",
       "    </tr>\n",
       "  </thead>\n",
       "  <tbody>\n",
       "    <tr>\n",
       "      <th>0</th>\n",
       "      <td>GET</td>\n",
       "      <td>/api/v1/sales?page=86</td>\n",
       "      <td>16/Apr/2019:193452+0000</td>\n",
       "      <td>HTTP/1.1</td>\n",
       "      <td>200</td>\n",
       "      <td>510348</td>\n",
       "      <td>python-requests/2.21.0</td>\n",
       "      <td>97.105.19.58</td>\n",
       "    </tr>\n",
       "    <tr>\n",
       "      <th>1</th>\n",
       "      <td>POST</td>\n",
       "      <td>/users_accounts/file-upload</td>\n",
       "      <td>16/Apr/2019:193452+0000</td>\n",
       "      <td>HTTP/1.1</td>\n",
       "      <td>201</td>\n",
       "      <td>42</td>\n",
       "      <td>User-Agent: Mozilla/5.0 (X11; Fedora; Fedora; ...</td>\n",
       "      <td>97.105.19.58</td>\n",
       "    </tr>\n",
       "    <tr>\n",
       "      <th>2</th>\n",
       "      <td>GET</td>\n",
       "      <td>/api/v1/items?page=3</td>\n",
       "      <td>16/Apr/2019:193453+0000</td>\n",
       "      <td>HTTP/1.1</td>\n",
       "      <td>429</td>\n",
       "      <td>3561</td>\n",
       "      <td>python-requests/2.21.0</td>\n",
       "      <td>97.105.19.58</td>\n",
       "    </tr>\n",
       "  </tbody>\n",
       "</table>\n",
       "</div>"
      ],
      "text/plain": [
       "  method                     endpoint                timestamp  http_ver  \\\n",
       "0    GET        /api/v1/sales?page=86  16/Apr/2019:193452+0000  HTTP/1.1   \n",
       "1   POST  /users_accounts/file-upload  16/Apr/2019:193452+0000  HTTP/1.1   \n",
       "2    GET         /api/v1/items?page=3  16/Apr/2019:193453+0000  HTTP/1.1   \n",
       "\n",
       "  response   bytes                                         user_agent  \\\n",
       "0      200  510348                             python-requests/2.21.0   \n",
       "1      201      42  User-Agent: Mozilla/5.0 (X11; Fedora; Fedora; ...   \n",
       "2      429    3561                             python-requests/2.21.0   \n",
       "\n",
       "             ip  \n",
       "0  97.105.19.58  \n",
       "1  97.105.19.58  \n",
       "2  97.105.19.58  "
      ]
     },
     "execution_count": 37,
     "metadata": {},
     "output_type": "execute_result"
    }
   ],
   "source": [
    "logs.str.extract(pattern, re.VERBOSE)\n"
   ]
  },
  {
   "cell_type": "code",
   "execution_count": null,
   "id": "7c5d8d53",
   "metadata": {},
   "outputs": [],
   "source": []
  }
 ],
 "metadata": {
  "kernelspec": {
   "display_name": "Python 3 (ipykernel)",
   "language": "python",
   "name": "python3"
  },
  "language_info": {
   "codemirror_mode": {
    "name": "ipython",
    "version": 3
   },
   "file_extension": ".py",
   "mimetype": "text/x-python",
   "name": "python",
   "nbconvert_exporter": "python",
   "pygments_lexer": "ipython3",
   "version": "3.11.3"
  }
 },
 "nbformat": 4,
 "nbformat_minor": 5
}
