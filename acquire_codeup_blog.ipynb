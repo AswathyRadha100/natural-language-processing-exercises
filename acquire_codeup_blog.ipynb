{
 "cells": [
  {
   "cell_type": "markdown",
   "id": "9a9aae75",
   "metadata": {},
   "source": [
    "\n",
    "<div style=\"background-color: lightblue; padding: 60px;\">\n",
    "    <h1><b>Acquire Data through Web Scraping\n",
    "</b></h1>\n",
    "</div>\n"
   ]
  },
  {
   "cell_type": "code",
   "execution_count": 3,
   "id": "490cf506",
   "metadata": {},
   "outputs": [],
   "source": [
    "import pandas as pd\n",
    "import numpy as np\n",
    "from bs4 import BeautifulSoup\n",
    "import requests\n",
    "import acquire as a"
   ]
  },
  {
   "cell_type": "markdown",
   "id": "284a3e12",
   "metadata": {},
   "source": [
    "# Exercises"
   ]
  },
  {
   "cell_type": "markdown",
   "id": "7081a92d",
   "metadata": {},
   "source": [
    "# 1. Codeup Blog Articles\n",
    "\n",
    "Visit Codeup's Blog and record the urls for at least 5 distinct blog posts. For each post, you should scrape at least the post's title and content.\n",
    "\n",
    "Encapsulate your work in a function named get_blog_articles that will return a list of dictionaries, with each dictionary representing one article. The shape of each dictionary should look like this:\n",
    "\n",
    "\n",
    "{\n",
    "    'title': 'the title of the article',\n",
    "    'content': 'the full text content of the article'\n",
    "}\n",
    "\n",
    "Plus any additional properties you think might be helpful.\n",
    "\n",
    "Bonus: Scrape the text of all the articles linked on codeup's blog page.\n",
    "\n"
   ]
  },
  {
   "cell_type": "markdown",
   "id": "ad6d9f98",
   "metadata": {},
   "source": [
    "# Steps to take in order to grab articles:\n",
    "\n",
    "Get the base blog page url\n",
    "Figure out how to capture blog link articles from main blog page\n",
    "Compose blog article links into a list of urls that I can interact with on an individual basis to grab blog article contents\n",
    "Figure out how to grab the title and article body of a specific blog article\n",
    "do all of those things in a loop, and turn it into a df"
   ]
  },
  {
   "cell_type": "code",
   "execution_count": 4,
   "id": "00bd63fc",
   "metadata": {},
   "outputs": [],
   "source": [
    "# base codeup blog url\n",
    "base_url = 'https://codeup.edu/blog/'"
   ]
  },
  {
   "cell_type": "code",
   "execution_count": 5,
   "id": "2a3f82d5",
   "metadata": {},
   "outputs": [],
   "source": [
    "# ping that page so I can grab the content\n",
    "# we learned in the lesson that I need to suggest a user-agent\n",
    "# for the codeup website to accept a requests library ping\n",
    "response = requests.get(base_url, headers={'User-Agent': 'giveanythingnews'})\n"
   ]
  },
  {
   "cell_type": "code",
   "execution_count": 24,
   "id": "c10c4394",
   "metadata": {},
   "outputs": [
    {
     "data": {
      "text/plain": [
       "<Response [200]>"
      ]
     },
     "execution_count": 24,
     "metadata": {},
     "output_type": "execute_result"
    }
   ],
   "source": [
    "response\n"
   ]
  },
  {
   "cell_type": "code",
   "execution_count": 6,
   "id": "16ede91c",
   "metadata": {},
   "outputs": [
    {
     "data": {
      "text/plain": [
       "'<!DOCTYPE html>\\n<html lang=\"en-US\">\\n<head>\\n\\t<meta charset=\"UTF-8\" />\\n<meta http-equiv=\"X-UA-Compatible\" content=\"IE=edge\">\\n\\t<link rel=\"pingback\" href=\"https://codeup.edu/xmlrpc.php\" />\\n\\n\\t<script type='"
      ]
     },
     "execution_count": 6,
     "metadata": {},
     "output_type": "execute_result"
    }
   ],
   "source": [
    "# check out the top of the content now that we have a 200 (OK)\n",
    "response.text[:200]"
   ]
  },
  {
   "cell_type": "code",
   "execution_count": 7,
   "id": "c5cf5038",
   "metadata": {},
   "outputs": [],
   "source": [
    "base_soup = BeautifulSoup(response.text, 'html.parser')"
   ]
  },
  {
   "cell_type": "code",
   "execution_count": null,
   "id": "797f3d50",
   "metadata": {},
   "outputs": [],
   "source": [
    "# proceed with getting links to my articles\n",
    "# this requires page investigation!"
   ]
  },
  {
   "cell_type": "code",
   "execution_count": null,
   "id": "0dfbed36",
   "metadata": {},
   "outputs": [],
   "source": [
    "# element tag of a:\n",
    "# class of more-link\n",
    "# hypothetically I should be able to grab these types of things\n",
    "# from that page:\n",
    "# find_all('a', class_='more-link')\n",
    "# .select('.more-link')"
   ]
  },
  {
   "cell_type": "code",
   "execution_count": 8,
   "id": "4759f276",
   "metadata": {},
   "outputs": [
    {
     "data": {
      "text/plain": [
       "[<a class=\"more-link\" href=\"https://codeup.edu/featured/apida-heritage-month/\">read more</a>,\n",
       " <a class=\"more-link\" href=\"https://codeup.edu/featured/women-in-tech-panelist-spotlight/\">read more</a>,\n",
       " <a class=\"more-link\" href=\"https://codeup.edu/featured/women-in-tech-rachel-robbins-mayhill/\">read more</a>,\n",
       " <a class=\"more-link\" href=\"https://codeup.edu/codeup-news/women-in-tech-panelist-spotlight-sarah-mellor/\">read more</a>,\n",
       " <a class=\"more-link\" href=\"https://codeup.edu/events/women-in-tech-madeleine/\">read more</a>,\n",
       " <a class=\"more-link\" href=\"https://codeup.edu/codeup-news/panelist-spotlight-4/\">read more</a>]"
      ]
     },
     "execution_count": 8,
     "metadata": {},
     "output_type": "execute_result"
    }
   ],
   "source": [
    "base_soup.find_all('a', class_='more-link')\n"
   ]
  },
  {
   "cell_type": "code",
   "execution_count": 9,
   "id": "60de7bfc",
   "metadata": {},
   "outputs": [
    {
     "data": {
      "text/plain": [
       "[<a class=\"more-link\" href=\"https://codeup.edu/featured/apida-heritage-month/\">read more</a>,\n",
       " <a class=\"more-link\" href=\"https://codeup.edu/featured/women-in-tech-panelist-spotlight/\">read more</a>,\n",
       " <a class=\"more-link\" href=\"https://codeup.edu/featured/women-in-tech-rachel-robbins-mayhill/\">read more</a>,\n",
       " <a class=\"more-link\" href=\"https://codeup.edu/codeup-news/women-in-tech-panelist-spotlight-sarah-mellor/\">read more</a>,\n",
       " <a class=\"more-link\" href=\"https://codeup.edu/events/women-in-tech-madeleine/\">read more</a>,\n",
       " <a class=\"more-link\" href=\"https://codeup.edu/codeup-news/panelist-spotlight-4/\">read more</a>]"
      ]
     },
     "execution_count": 9,
     "metadata": {},
     "output_type": "execute_result"
    }
   ],
   "source": [
    "# this appears to work just as well:\n",
    "base_soup.select('.more-link')\n"
   ]
  },
  {
   "cell_type": "code",
   "execution_count": 10,
   "id": "7fbfa7f2",
   "metadata": {},
   "outputs": [],
   "source": [
    "blog_links = [element['href'] for element in base_soup.find_all('a', class_='more-link')]\n"
   ]
  },
  {
   "cell_type": "code",
   "execution_count": 11,
   "id": "fb14aa39",
   "metadata": {},
   "outputs": [
    {
     "data": {
      "text/plain": [
       "['https://codeup.edu/featured/apida-heritage-month/',\n",
       " 'https://codeup.edu/featured/women-in-tech-panelist-spotlight/',\n",
       " 'https://codeup.edu/featured/women-in-tech-rachel-robbins-mayhill/',\n",
       " 'https://codeup.edu/codeup-news/women-in-tech-panelist-spotlight-sarah-mellor/',\n",
       " 'https://codeup.edu/events/women-in-tech-madeleine/',\n",
       " 'https://codeup.edu/codeup-news/panelist-spotlight-4/']"
      ]
     },
     "execution_count": 11,
     "metadata": {},
     "output_type": "execute_result"
    }
   ],
   "source": [
    "blog_links"
   ]
  },
  {
   "cell_type": "code",
   "execution_count": null,
   "id": "fccfaeea",
   "metadata": {},
   "outputs": [],
   "source": [
    "# best way to build a loop is to do the thing once\n",
    "# and then figure out how to repeat it"
   ]
  },
  {
   "cell_type": "code",
   "execution_count": 12,
   "id": "046f31f2",
   "metadata": {},
   "outputs": [],
   "source": [
    "blog_test = requests.get('https://codeup.edu/events/women-in-tech-madeleine/', headers={'User-Agent': 'there is a californian champagne from paul mason'})\n"
   ]
  },
  {
   "cell_type": "code",
   "execution_count": 13,
   "id": "02c89969",
   "metadata": {},
   "outputs": [],
   "source": [
    "blog_soup = BeautifulSoup(blog_test.text, 'html.parser')\n"
   ]
  },
  {
   "cell_type": "code",
   "execution_count": 14,
   "id": "d30586a4",
   "metadata": {},
   "outputs": [
    {
     "data": {
      "text/plain": [
       "'Women in Tech: Panelist Spotlight – Madeleine Capper'"
      ]
     },
     "execution_count": 14,
     "metadata": {},
     "output_type": "execute_result"
    }
   ],
   "source": [
    "# figure out how to grab the title and the content from the blog soup:\n",
    "# tag: h1 class: entry-title\n",
    "blog_soup.find('h1', class_='entry-title').text"
   ]
  },
  {
   "cell_type": "code",
   "execution_count": 15,
   "id": "109683bf",
   "metadata": {},
   "outputs": [
    {
     "data": {
      "text/plain": [
       "'Women in tech: Panelist Spotlight – Madeleine Capper\\nCodeup is hosting a Women in Tech Panel in honor of Women’s History Month on March 29th, 2023! To further celebrate, we’d like to spotlight each of'"
      ]
     },
     "execution_count": 15,
     "metadata": {},
     "output_type": "execute_result"
    }
   ],
   "source": [
    "# and for the body:\n",
    "blog_soup.find('div', class_='entry-content').text.strip()[:200]"
   ]
  },
  {
   "cell_type": "code",
   "execution_count": 35,
   "id": "a9417212",
   "metadata": {},
   "outputs": [],
   "source": [
    "# lets iterate through those blog links an build out a structure\n",
    "# that will allow me to scrape the contents of that page\n",
    "all_blogs = []\n",
    "for link in blog_links:\n",
    "    # get a response from the link element\n",
    "    response = requests.get(link, headers={'User-Agent': 'Robinson Rulez'})\n",
    "    #turn the response text into a soup\n",
    "    soup = BeautifulSoup(response.text, 'html.parser')\n",
    "    #grab the html element associated with the article body\n",
    "    title = soup.find('h1', class_='entry-title').text\n",
    "    #grab the html element associated with the article head\n",
    "    body = soup.find('div', class_='entry-content').text.strip()\n",
    "    # toss those two things with labels into a dictionary\n",
    "    row = {'title': title, 'article': body}\n",
    "    #add that dictionary to a list of dictionaries\n",
    "    all_blogs.append(row)\n",
    "#outside the loop:\n",
    "# cast the list of dictionaries into a pandas DataFrame\n",
    "articles = pd.DataFrame(all_blogs)"
   ]
  },
  {
   "cell_type": "code",
   "execution_count": 36,
   "id": "61a862b6",
   "metadata": {},
   "outputs": [
    {
     "data": {
      "text/html": [
       "<div>\n",
       "<style scoped>\n",
       "    .dataframe tbody tr th:only-of-type {\n",
       "        vertical-align: middle;\n",
       "    }\n",
       "\n",
       "    .dataframe tbody tr th {\n",
       "        vertical-align: top;\n",
       "    }\n",
       "\n",
       "    .dataframe thead th {\n",
       "        text-align: right;\n",
       "    }\n",
       "</style>\n",
       "<table border=\"1\" class=\"dataframe\">\n",
       "  <thead>\n",
       "    <tr style=\"text-align: right;\">\n",
       "      <th></th>\n",
       "      <th>title</th>\n",
       "      <th>article</th>\n",
       "    </tr>\n",
       "  </thead>\n",
       "  <tbody>\n",
       "    <tr>\n",
       "      <th>0</th>\n",
       "      <td>Spotlight on APIDA Voices: Celebrating Heritag...</td>\n",
       "      <td>May is traditionally known as Asian American a...</td>\n",
       "    </tr>\n",
       "    <tr>\n",
       "      <th>1</th>\n",
       "      <td>Women in tech: Panelist Spotlight – Magdalena ...</td>\n",
       "      <td>Women in tech: Panelist Spotlight – Magdalena ...</td>\n",
       "    </tr>\n",
       "    <tr>\n",
       "      <th>2</th>\n",
       "      <td>Women in tech: Panelist Spotlight – Rachel Rob...</td>\n",
       "      <td>Women in tech: Panelist Spotlight – Rachel Rob...</td>\n",
       "    </tr>\n",
       "    <tr>\n",
       "      <th>3</th>\n",
       "      <td>Women in Tech: Panelist Spotlight – Sarah Mellor</td>\n",
       "      <td>Women in tech: Panelist Spotlight – Sarah Mell...</td>\n",
       "    </tr>\n",
       "    <tr>\n",
       "      <th>4</th>\n",
       "      <td>Women in Tech: Panelist Spotlight – Madeleine ...</td>\n",
       "      <td>Women in tech: Panelist Spotlight – Madeleine ...</td>\n",
       "    </tr>\n",
       "    <tr>\n",
       "      <th>5</th>\n",
       "      <td>Black Excellence in Tech: Panelist Spotlight –...</td>\n",
       "      <td>Black excellence in tech: Panelist Spotlight –...</td>\n",
       "    </tr>\n",
       "  </tbody>\n",
       "</table>\n",
       "</div>"
      ],
      "text/plain": [
       "                                               title  \\\n",
       "0  Spotlight on APIDA Voices: Celebrating Heritag...   \n",
       "1  Women in tech: Panelist Spotlight – Magdalena ...   \n",
       "2  Women in tech: Panelist Spotlight – Rachel Rob...   \n",
       "3   Women in Tech: Panelist Spotlight – Sarah Mellor   \n",
       "4  Women in Tech: Panelist Spotlight – Madeleine ...   \n",
       "5  Black Excellence in Tech: Panelist Spotlight –...   \n",
       "\n",
       "                                             article  \n",
       "0  May is traditionally known as Asian American a...  \n",
       "1  Women in tech: Panelist Spotlight – Magdalena ...  \n",
       "2  Women in tech: Panelist Spotlight – Rachel Rob...  \n",
       "3  Women in tech: Panelist Spotlight – Sarah Mell...  \n",
       "4  Women in tech: Panelist Spotlight – Madeleine ...  \n",
       "5  Black excellence in tech: Panelist Spotlight –...  "
      ]
     },
     "execution_count": 36,
     "metadata": {},
     "output_type": "execute_result"
    }
   ],
   "source": [
    "articles"
   ]
  },
  {
   "cell_type": "code",
   "execution_count": 19,
   "id": "fd7ae72d",
   "metadata": {},
   "outputs": [
    {
     "data": {
      "text/html": [
       "<div>\n",
       "<style scoped>\n",
       "    .dataframe tbody tr th:only-of-type {\n",
       "        vertical-align: middle;\n",
       "    }\n",
       "\n",
       "    .dataframe tbody tr th {\n",
       "        vertical-align: top;\n",
       "    }\n",
       "\n",
       "    .dataframe thead th {\n",
       "        text-align: right;\n",
       "    }\n",
       "</style>\n",
       "<table border=\"1\" class=\"dataframe\">\n",
       "  <thead>\n",
       "    <tr style=\"text-align: right;\">\n",
       "      <th></th>\n",
       "      <th>title</th>\n",
       "      <th>article</th>\n",
       "    </tr>\n",
       "  </thead>\n",
       "  <tbody>\n",
       "    <tr>\n",
       "      <th>0</th>\n",
       "      <td>Spotlight on APIDA Voices: Celebrating Heritag...</td>\n",
       "      <td>May is traditionally known as Asian American a...</td>\n",
       "    </tr>\n",
       "    <tr>\n",
       "      <th>1</th>\n",
       "      <td>Women in Tech: Panelist Spotlight – Madeleine ...</td>\n",
       "      <td>Women in tech: Panelist Spotlight – Madeleine ...</td>\n",
       "    </tr>\n",
       "  </tbody>\n",
       "</table>\n",
       "</div>"
      ],
      "text/plain": [
       "                                               title  \\\n",
       "0  Spotlight on APIDA Voices: Celebrating Heritag...   \n",
       "1  Women in Tech: Panelist Spotlight – Madeleine ...   \n",
       "\n",
       "                                             article  \n",
       "0  May is traditionally known as Asian American a...  \n",
       "1  Women in tech: Panelist Spotlight – Madeleine ...  "
      ]
     },
     "execution_count": 19,
     "metadata": {},
     "output_type": "execute_result"
    }
   ],
   "source": [
    "# Write the above one as a function in acquire.py and call it\n",
    "# Testing the function:\n",
    "blog_links = ['https://codeup.edu/featured/apida-heritage-month/', 'https://codeup.edu/events/women-in-tech-madeleine/']\n",
    "a.scrape_blog_articles(blog_links)\n"
   ]
  },
  {
   "cell_type": "code",
   "execution_count": null,
   "id": "f840570e",
   "metadata": {},
   "outputs": [],
   "source": [
    "# OR"
   ]
  },
  {
   "cell_type": "code",
   "execution_count": 154,
   "id": "00c10c08",
   "metadata": {},
   "outputs": [],
   "source": [
    "# urls for at least 5 distinct blog posts\n",
    "url1 = 'https://codeup.edu/featured/apida-heritage-month/'\n",
    "url2 = 'https://codeup.edu/codeup-news/women-in-tech-panelist-spotlight-sarah-mellor/'   \n",
    "url3 = 'https://codeup.edu/featured/women-in-tech-rachel-robbins-mayhill/'\n",
    "url4 = 'https://codeup.edu/events/women-in-tech-madeleine/'  \n",
    "url5 = 'https://codeup.edu/codeup-news/panelist-spotlight-4/'\n",
    "\n"
   ]
  },
  {
   "cell_type": "code",
   "execution_count": 155,
   "id": "cb699944",
   "metadata": {},
   "outputs": [],
   "source": [
    "# List of user-agent strings that mimic different web browsers(spoofing)\n",
    "user_agents = [\n",
    "    \"Mozilla/5.0 (Windows NT 10.0; rv:91.0) Gecko/20100101 Firefox/91.0\",\n",
    "    \"Mozilla/5.0 (Windows NT 10.0; rv:78.0) Gecko/20100101 Firefox/78.0\",\n",
    "    \"Mozilla/5.0 (X11; Linux x86_64; rv:95.0) Gecko/20100101 Firefox/95.0\"\n",
    "]\n",
    "\n",
    "# Randomly select a user-agent from the list for simulating web browser diversity\n",
    "random_user_agent = random.choice(user_agents)\n"
   ]
  },
  {
   "cell_type": "code",
   "execution_count": 142,
   "id": "5c378864",
   "metadata": {},
   "outputs": [],
   "source": [
    "# Define the 'headers' dictionary with a 'User-Agent' key to simulate different web browsers.\n",
    "headers = {'User-Agent': random_user_agent}\n",
    "\n",
    "# Send HTTP requests to multiple URLs with the specified 'User-Agent' header.\n",
    "url1_response = requests.get(url1, headers=headers)\n",
    "url2_response = requests.get(url2, headers=headers)\n",
    "url3_response = requests.get(url3, headers=headers)\n",
    "url4_response = requests.get(url4, headers=headers)\n",
    "url5_response = requests.get(url5, headers=headers)\n",
    "# created 5 response objects"
   ]
  },
  {
   "cell_type": "code",
   "execution_count": 143,
   "id": "03f5cca1",
   "metadata": {},
   "outputs": [
    {
     "name": "stdout",
     "output_type": "stream",
     "text": [
      "url1_response <Response [200]>\n",
      "url2_response <Response [200]>\n",
      "url3_response <Response [200]>\n",
      "url4_response <Response [200]>\n",
      "url5_response <Response [200]>\n"
     ]
    }
   ],
   "source": [
    "# Print the responses from the URLs \n",
    "print('url1_response',url1_response)\n",
    "print('url2_response',url2_response)\n",
    "print('url3_response',url3_response)\n",
    "print('url4_response',url4_response)\n",
    "print('url5_response',url5_response)\n",
    "\n",
    "# <Response [200]> means successful"
   ]
  },
  {
   "cell_type": "code",
   "execution_count": null,
   "id": "c57af5c6",
   "metadata": {},
   "outputs": [],
   "source": [
    "# Extract the content of the response from URL 1 as text.\n",
    "url1_response.text\n",
    "\n",
    "# checked only url1_response here"
   ]
  },
  {
   "cell_type": "code",
   "execution_count": 45,
   "id": "d574f738",
   "metadata": {},
   "outputs": [],
   "source": [
    "# turn the contents into soup:\n",
    "soup_url1 = BeautifulSoup(url1_response.text, 'html.parser')\n",
    "soup_url2 = BeautifulSoup(url2_response.text, 'html.parser')\n",
    "soup_url3 = BeautifulSoup(url3_response.text, 'html.parser')\n",
    "soup_url4 = BeautifulSoup(url4_response.text, 'html.parser')\n",
    "soup_url5 = BeautifulSoup(url5_response.text, 'html.parser')"
   ]
  },
  {
   "cell_type": "code",
   "execution_count": 46,
   "id": "fb3672a3",
   "metadata": {},
   "outputs": [
    {
     "name": "stdout",
     "output_type": "stream",
     "text": [
      "soup_url1:- <h1 class=\"entry-title\">Spotlight on APIDA Voices: Celebrating Heritage and Inspiring Change ft. Arbeena Thapa</h1>\n",
      "soup_url2:- <h1 class=\"entry-title\">Women in Tech: Panelist Spotlight – Sarah Mellor</h1>\n",
      "soup_url3:- <h1 class=\"entry-title\">Women in tech: Panelist Spotlight – Rachel Robbins-Mayhill</h1>\n",
      "soup_url4:- <h1 class=\"entry-title\">Women in Tech: Panelist Spotlight – Madeleine Capper</h1>\n",
      "soup_url5:- <h1 class=\"entry-title\">Black Excellence in Tech: Panelist Spotlight – Wilmarie De La Cruz Mejia</h1>\n"
     ]
    }
   ],
   "source": [
    "#use soup to find titles\n",
    "\n",
    "print('soup_url1:-',soup_url1.find(\"h1\"))  \n",
    "print('soup_url2:-',soup_url2.find(\"h1\"))  \n",
    "print('soup_url3:-',soup_url3.find(\"h1\"))  \n",
    "print('soup_url4:-',soup_url4.find(\"h1\"))  \n",
    "print('soup_url5:-',soup_url5.find(\"h1\"))  \n"
   ]
  },
  {
   "cell_type": "code",
   "execution_count": null,
   "id": "06edf5cc",
   "metadata": {},
   "outputs": [],
   "source": [
    "# or"
   ]
  },
  {
   "cell_type": "code",
   "execution_count": 149,
   "id": "664e37e4",
   "metadata": {},
   "outputs": [],
   "source": [
    "# use soup to find titles\n",
    "title1 = soup_url1.title.string\n",
    "title2 = soup_url2.title.string\n",
    "title3 = soup_url3.title.string\n",
    "title4 = soup_url4.title.string\n",
    "title5 = soup_url5.title.string"
   ]
  },
  {
   "cell_type": "code",
   "execution_count": 74,
   "id": "d08d0432",
   "metadata": {},
   "outputs": [],
   "source": [
    "# To find 1st paragraph element\n",
    "# soup_url1.find('p')"
   ]
  },
  {
   "cell_type": "code",
   "execution_count": 150,
   "id": "d95f6578",
   "metadata": {},
   "outputs": [],
   "source": [
    "# To find ALL paragraph elements, list_of_p_elements\n",
    "\n",
    "list_of_p_elements_url1 = soup_url1.find_all('p')\n",
    "list_of_p_elements_url2 = soup_url2.find_all('p')\n",
    "list_of_p_elements_url3 = soup_url3.find_all('p')\n",
    "list_of_p_elements_url4 = soup_url4.find_all('p')\n",
    "list_of_p_elements_url5 = soup_url5.find_all('p')"
   ]
  },
  {
   "cell_type": "code",
   "execution_count": 151,
   "id": "607b1493",
   "metadata": {},
   "outputs": [],
   "source": [
    "# Join the text content of all <p> elements in each list_of_p_elements_urls into a single string for each blogs\n",
    "#  and hold the contents of the codeup blog posts \n",
    "blog1 = ' '.join([element.text for element in list_of_p_elements_url1])\n",
    "blog2 = ' '.join([element.text for element in list_of_p_elements_url2])\n",
    "blog3 = ' '.join([element.text for element in list_of_p_elements_url3])\n",
    "blog4 = ' '.join([element.text for element in list_of_p_elements_url4])\n",
    "blog5 = ' '.join([element.text for element in list_of_p_elements_url5])"
   ]
  },
  {
   "cell_type": "code",
   "execution_count": 152,
   "id": "8a0e9d32",
   "metadata": {},
   "outputs": [],
   "source": [
    "# Create a dictionary of title and content for each blog post\n",
    "blog1_content_title = {'Title':title1,'Content':blog1}\n",
    "blog2_content_title = {'Title':title2,'Content':blog2}\n",
    "blog3_content_title = {'Title':title3,'Content':blog3}\n",
    "blog4_content_title = {'Title':title4,'Content':blog4}\n",
    "blog5_content_title = {'Title':title5,'Content':blog5}\n"
   ]
  },
  {
   "cell_type": "code",
   "execution_count": 153,
   "id": "38b518fd",
   "metadata": {},
   "outputs": [],
   "source": [
    "blog = (\n",
    "     blog1_content_title,\n",
    "     blog2_content_title,\n",
    "     blog3_content_title,\n",
    "     blog4_content_title,\n",
    "     blog5_content_title\n",
    ")\n"
   ]
  },
  {
   "cell_type": "code",
   "execution_count": 148,
   "id": "342a1ae9",
   "metadata": {},
   "outputs": [
    {
     "data": {
      "text/plain": [
       "({'Title': None,\n",
       "  'Content': 'May 24, 2023 | Featured May is traditionally known as Asian American and Pacific Islander (AAPI) Heritage Month. This month we celebrate the history and contributions made possible by our AAPI friends, family, and community. We also examine our level of support and seek opportunities to better understand the AAPI community.  In an effort to address real concerns and experiences, we sat down with Arbeena Thapa, one of Codeup’s Financial Aid and Enrollment Managers. Arbeena identifies as Nepali American and Desi. Arbeena’s parents immigrated to Texas in 1988 for better employment and educational opportunities. Arbeena’s older sister was five when they made the move to the US. Arbeena was born later, becoming the first in her family to be a US citizen. At Codeup we take our efforts at inclusivity very seriously. After speaking with Arbeena, we were taught that the term AAPI excludes Desi-American individuals. Hence, we will now use the term Asian Pacific Islander Desi American (APIDA). Here is how the rest of our conversation with Arbeena went! How do you celebrate or connect with your heritage and cultural traditions? “I celebrate Nepal’s version of Christmas or Dashain. This is a nine-day celebration also known as Dussehra. I grew up as Hindu and I identify as Hindu, this is a very large part of my heritage. “ “Other ways I connect with my culture include sharing food! Momos are South Asian Dumplings and they’re my favorite to make and share.” “On my Asian American side, I am an advocate of immigrant justice and erasure within APIDA social or political movements. I participate in events to embrace my identity such as immigrant justice advocacy because I come from a mixed-status family. I’ve always been in a community with undocumented Asian immigrants. .” What are some of the challenges you have faced as an APIDA individual, personally or professionally? “I often struggle with being gendered as compliant or a pushover. Professionally, I am often stereotyped as meek, so I’ve been overlooked for leadership roles. We are seen as perpetually foreign; people tend to other us in that way, yet put us on a pedestal for what a model minority looks like. This has made me hesitant to share my heritage in the past because these assumptions get mapped onto me. ” Can you describe some common barriers of entry that APIDA individuals, specifically women may face when trying to enter or advance in the workplace? “Being overlooked for leadership. In the past, I have not been viewed as a leader. People sometimes have preconceived stereotypes of Asian women not being able to be bold, or being vocal can be mistaken for being too emotional. “ How do you believe microaggressions impact APIDA individuals in the workplace? Can you provide examples of such microaggressions? “Erasure is big. To me, only saying ‘Merry Christmas’ isn’t inclusive to other religions. People are often resistant to saying ‘Happy Holidays,’ but saying Merry Christmas excludes, and does not appreciate my heritage. “ “Often microaggressions are not micro at all. They typically are not aggressive racialized violence, but the term ‘micro’ minimizes impact.” “Some that I’ve heard are ‘What kind of Asian are you?’ or ‘Where are you from?’ This automatically makes me the ‘other’ and not seen as American. Even within the APIDA community, South Asians are overlooked as “Asian”.” How important is representation, specifically APIDA representation, in organizational leadership positions? “I want to say that it is important to have someone who looks like you in leadership roles, and it is, but those leaders may not share the same beliefs as you. Certain privileges such as wealth, resources, or lack of interaction with lower-socioeconomic-status Asian Americans may cause a difference in community politics. I do not think the bamboo ceiling is acceptable, but the company you work for plays a big part in your politics and belief alignment.” How do you feel about code-switching, and have you ever felt it necessary to code-switch? “I like sharing South Asian terms or connecting with others that have similar heritage and culture. A workplace that is welcoming to going into this sort of breakout is refreshing and makes space for us. However, having to code-switch could also mean a workplace that is not conducive and welcoming of other cultures. “ Finally, in your opinion, what long-term strategies can create lasting change in the workplace and ensure support, equality, and inclusion for APIDA individuals? “Prior to a career in financial aid, I did a lot of research related to the post-9/11 immigration of the South Asian diaspora. This background made me heavily rely on grassroots organizing. Hire the people that want to innovate, hire the changemakers, hire the button-pushers. Reduce reliance on whiteness as change. This will become natural for the organization and become organizational change. Change comes from us on the ground.” A huge thank you to Arbeena Thapa for sharing her experiences, and being vulnerable with us. Your words were inspiring and the opportunity to understand your perspective more has been valuable. We hope we can become better support for the APIDA community as we learn and grow on our journey of cultivating inclusive growth.    (210) 802–7289 Dallas | San Antonio © 2013-2022 Copyright. Privacy Policy | Complaint Policy | Inclusion | Accessibility | Sitemap If you love researching data and reading the fine print, you’ll do well in our programs. GI Bill® is a registered trademark of the U.S. Department of Veterans Affairs (VA). More information about education benefits offered by VA is available at the official U.S. government Web site at https://www.benefits.va.gov/gibill. Codeup is accredited for postsecondary, non-degree granting, career and technology programs by the Middle States Commission on Secondary Schools of the Middle States Association of Colleges and Schools, 3624 Market Street, Philadelphia, PA 19104, (267) 284-5000   '},\n",
       " {'Title': 'Short English & Hindi News|Latest News, India News, Current Affairs|Inshorts',\n",
       "  'Content': 'Mar 13, 2023 | Codeup News, Featured Codeup is hosting a Women in Tech Panel in honor of Women’s History Month on March 29th, 2023! To further celebrate, we’d like to spotlight each of our panelists leading up to the discussion to learn a bit about their respective experiences as women in the tech industry! Meet Sarah! Sarah Mellor currently works as the Director of People Operations. She joined Codeup four and a half years ago as an Admissions Manager. She went on to build out and lead the Marketing and Admissions team, while picking up People Ops tasks and projects here and there until moving over to lead the People Ops team two years ago. Prior to Codeup, she worked at education-focused non-profits in Washington, DC and Boulder, Colorado. She graduated from Wake Forest University. We asked Sarah how Codeup has impacted her career, and her response was “I have absolutely loved having the privilege to grow alongside Codeup. In my time here across multiple different roles and departments, I’ve seen a lot of change. The consistent things have always been the high quality of passionate and hardworking people I get to work with; the impactful mission we get to work on; and the inspiring students who trust us with their career change.” Don’t forget to tune in on March 29th to sit in on an insightful conversation.    (210) 802–7289 Dallas | San Antonio © 2013-2022 Copyright. Privacy Policy | Complaint Policy | Inclusion | Accessibility | Sitemap If you love researching data and reading the fine print, you’ll do well in our programs. GI Bill® is a registered trademark of the U.S. Department of Veterans Affairs (VA). More information about education benefits offered by VA is available at the official U.S. government Web site at https://www.benefits.va.gov/gibill. Codeup is accredited for postsecondary, non-degree granting, career and technology programs by the Middle States Commission on Secondary Schools of the Middle States Association of Colleges and Schools, 3624 Market Street, Philadelphia, PA 19104, (267) 284-5000   '},\n",
       " {'Title': 'Short English & Hindi News|Latest News, India News, Current Affairs|Inshorts',\n",
       "  'Content': 'Mar 20, 2023 | Events, Featured Codeup is hosting a Women in Tech Panel in honor of Women’s History Month on March 29th, 2023! To further celebrate, we’d like to spotlight each of our panelists leading up to the discussion to learn a bit about their respective experiences as women in the tech industry! Meet Rachel! \\nRachel Robbins-Mayhill is a Decision Science Analyst I in San Antonio, Texas. Rachel has had a varied career that includes counseling, teaching, training, community development, and military operations. Her focus has always been on assessing needs, identifying solutions, and educating individuals and groups on aligning needs and solutions in different contexts. Rachel’s passion for data science stems from her belief that data is a powerful tool for communicating patterns that can lead to hope and growth in the future. In June 2022, Rachel graduated from Codeup’s Innis cohort, where she honed her skills in data science. Shortly after, she started working as a Data Science Technical Writer with Apex Systems as a Contractor for USAA in July 2022. Her unconventional role allowed her to understand where her skills could be best utilized to support USAA in a non-contract role. Rachel recently joined USAA’s Data Science Delivery team as a Decision Science Analyst I in February 2023. The team is focused on delivering machine learning models for fraud prevention, and Rachel’s particular role centers around providing strategic process solutions for the team in collaboration with Operational and Model Risk components. In addition to her career, Rachel is currently pursuing a master’s degree in Applied Data Science from Syracuse University, further expanding her knowledge and skills in the field. Rachel is passionate about collaborating with individuals who share her belief in the potential of others and strive to achieve growth through logical, informed action. She welcomes LinkedIn connections and is excited about supporting the network of CodeUp alumni! We asked Rachel how Codeup impacted her career, and she replied “Codeup delivered a comprehensive education in all facets of the data science pipeline, laying a strong foundation for me to build upon. Through repeated hands-on practice, I developed a reliable process that was immediately applicable in my job. Collaborative group projects were instrumental in helping me hone my skills in project management, allowing me to navigate complex data science projects with comfortability. Thanks to this invaluable experience, I was able to make significant strides in my career within just six months of graduating from Codeup.” Don’t forget to tune in on March 29th to sit in on an insightful conversation.    (210) 802–7289 Dallas | San Antonio © 2013-2022 Copyright. Privacy Policy | Complaint Policy | Inclusion | Accessibility | Sitemap If you love researching data and reading the fine print, you’ll do well in our programs. GI Bill® is a registered trademark of the U.S. Department of Veterans Affairs (VA). More information about education benefits offered by VA is available at the official U.S. government Web site at https://www.benefits.va.gov/gibill. Codeup is accredited for postsecondary, non-degree granting, career and technology programs by the Middle States Commission on Secondary Schools of the Middle States Association of Colleges and Schools, 3624 Market Street, Philadelphia, PA 19104, (267) 284-5000   '},\n",
       " {'Title': 'Short English & Hindi News|Latest News, India News, Current Affairs|Inshorts',\n",
       "  'Content': 'Mar 6, 2023 | Events, Featured Codeup is hosting a Women in Tech Panel in honor of Women’s History Month on March 29th, 2023! To further celebrate, we’d like to spotlight each of our panelists leading up to the discussion to learn a bit about their respective experiences as women in the tech industry! Meet Madeleine! Madeleine Capper is a Data Scientist in San Antonio, Texas. A long-standing San Antonio resident, she studied mathematics at the University of Texas San Antonio and has worked as a Data Scientist for Booz Allen Hamilton. Madeleine currently teaches Data Science at Codeup, where she works daily with burgeoning data professionals to help them actualize their career aspirations through technical education. Madeleine attended Codeup as a student in early 2019 as a pupil in the very first Codeup Data Science cohort. The program proved immediately effective and she was the first student to obtain a data career out of the program. After working at Booz Allen Hamilton, Madeleine’s passion for education in conjunction with her appreciation for Codeup’s capacity for transformative life change brought her back to the institution in an instructional capacity, where she has been teaching for two years. Don’t forget to tune in on March 29th to sit in on an insightful conversation.    (210) 802–7289 Dallas | San Antonio © 2013-2022 Copyright. Privacy Policy | Complaint Policy | Inclusion | Accessibility | Sitemap If you love researching data and reading the fine print, you’ll do well in our programs. GI Bill® is a registered trademark of the U.S. Department of Veterans Affairs (VA). More information about education benefits offered by VA is available at the official U.S. government Web site at https://www.benefits.va.gov/gibill. Codeup is accredited for postsecondary, non-degree granting, career and technology programs by the Middle States Commission on Secondary Schools of the Middle States Association of Colleges and Schools, 3624 Market Street, Philadelphia, PA 19104, (267) 284-5000   '},\n",
       " {'Title': 'Black Excellence in Tech: Panelist Spotlight - Wilmarie De La Cruz Mejia',\n",
       "  'Content': 'Feb 16, 2023 | Codeup News, Events, Featured  Codeup is hosting a Black Excellence in Tech Panel in honor of Black History Month on February 22, 2023! To further celebrate, we’d like to spotlight each of our panelists leading up to the discussion to learn a bit about their respective experiences as black leaders in the tech industry!\\xa0\\xa0 Meet Wilmarie! Wilmarie De\\xa0La Cruz Mejia is a current Codeup student on the path to becoming a Full-Stack Web Developer at our Dallas, TX campus.\\xa0 Wilmarie is a veteran expanding her knowledge of programming languages and technologies on her journey with Codeup.\\xa0 We asked Wilmarie to share more about her experience at Codeup. She shares, “I was able to meet other people who were passionate about coding and be in a positive learning environment.” We hope you can join us on February 22nd to sit in on an insightful conversation with Wilmarie and all of our panelists!    (210) 802–7289 Dallas | San Antonio © 2013-2022 Copyright. Privacy Policy | Complaint Policy | Inclusion | Accessibility | Sitemap If you love researching data and reading the fine print, you’ll do well in our programs. GI Bill® is a registered trademark of the U.S. Department of Veterans Affairs (VA). More information about education benefits offered by VA is available at the official U.S. government Web site at https://www.benefits.va.gov/gibill. Codeup is accredited for postsecondary, non-degree granting, career and technology programs by the Middle States Commission on Secondary Schools of the Middle States Association of Colleges and Schools, 3624 Market Street, Philadelphia, PA 19104, (267) 284-5000   '})"
      ]
     },
     "execution_count": 148,
     "metadata": {},
     "output_type": "execute_result"
    }
   ],
   "source": [
    "blog"
   ]
  },
  {
   "cell_type": "code",
   "execution_count": null,
   "id": "d8227f41",
   "metadata": {},
   "outputs": [],
   "source": []
  }
 ],
 "metadata": {
  "kernelspec": {
   "display_name": "Python 3 (ipykernel)",
   "language": "python",
   "name": "python3"
  },
  "language_info": {
   "codemirror_mode": {
    "name": "ipython",
    "version": 3
   },
   "file_extension": ".py",
   "mimetype": "text/x-python",
   "name": "python",
   "nbconvert_exporter": "python",
   "pygments_lexer": "ipython3",
   "version": "3.11.3"
  }
 },
 "nbformat": 4,
 "nbformat_minor": 5
}
